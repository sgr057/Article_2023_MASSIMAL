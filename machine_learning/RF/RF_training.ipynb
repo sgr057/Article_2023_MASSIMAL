{
 "cells": [
  {
   "cell_type": "markdown",
   "id": "eb9aaebf",
   "metadata": {},
   "source": [
    "Code written in colabboration with Martin Hansen Skjelvareid."
   ]
  },
  {
   "cell_type": "code",
   "execution_count": 1,
   "id": "99f4d0cb",
   "metadata": {},
   "outputs": [],
   "source": [
    "# Disable TensorFlow debugging info and warnings\n",
    "import os\n",
    "os.environ['TF_CPP_MIN_LOG_LEVEL'] = '2'  # 2: Info and warnings not displayed "
   ]
  },
  {
   "cell_type": "code",
   "execution_count": 2,
   "id": "16f7eff7",
   "metadata": {},
   "outputs": [],
   "source": [
    "import numpy as np\n",
    "import matplotlib.pyplot as plt\n",
    "import tensorflow as tf\n",
    "import sklearn.ensemble\n",
    "import pickle"
   ]
  },
  {
   "cell_type": "code",
   "execution_count": 3,
   "id": "a74d2921",
   "metadata": {},
   "outputs": [],
   "source": [
    "# Disable GPUs (in case of Tensorflow trying to use GPUs and raising errors)\n",
    "tf.config.set_visible_devices([], 'GPU')"
   ]
  },
  {
   "cell_type": "code",
   "execution_count": 4,
   "id": "99321427",
   "metadata": {},
   "outputs": [],
   "source": [
    "# Paths\n",
    "tiles_dataset_path = '/Users/siljegrue/Downloads/tiles'"
   ]
  },
  {
   "cell_type": "code",
   "execution_count": 5,
   "id": "1624251a",
   "metadata": {},
   "outputs": [],
   "source": [
    "# Load dataset (or, rather, pointer to dataset)\n",
    "dataset = tf.data.experimental.load(tiles_dataset_path)"
   ]
  },
  {
   "cell_type": "code",
   "execution_count": 6,
   "id": "9397a740",
   "metadata": {},
   "outputs": [
    {
     "name": "stdout",
     "output_type": "stream",
     "text": [
      "Dataset specification: <_LoadDataset element_spec=(TensorSpec(shape=(128, 128, 8), dtype=tf.float32, name=None), TensorSpec(shape=(128, 128), dtype=tf.int32, name=None))>\n",
      "Number of tiles: 459\n"
     ]
    }
   ],
   "source": [
    "# Show dataset details\n",
    "n_tiles = int(dataset.cardinality())\n",
    "print(f'Dataset specification: {dataset}')\n",
    "print(f'Number of tiles: {n_tiles}')"
   ]
  },
  {
   "cell_type": "code",
   "execution_count": 7,
   "id": "b23a538c",
   "metadata": {},
   "outputs": [],
   "source": [
    "# Shuffle dataset (tiles are originally ordered by image)\n",
    "dataset = dataset.shuffle(buffer_size=n_tiles)"
   ]
  },
  {
   "cell_type": "code",
   "execution_count": 8,
   "id": "22696845",
   "metadata": {},
   "outputs": [],
   "source": [
    "def collect_dataset_spectra(dataset):\n",
    "    \"\"\" Collect annotated pixels in feature matrix X and label vector y \"\"\"\n",
    "    pixels_list = []\n",
    "    label_list = []\n",
    "    for image_tile,label_tile in dataset:\n",
    "        annotated_mask = (label_tile > 0) # Label 0 corresponds to background (not annotated)\n",
    "        pixels_list.append(image_tile[annotated_mask])\n",
    "        label_list.append(label_tile[annotated_mask])\n",
    "    X = np.concatenate(pixels_list)\n",
    "    y = np.concatenate(label_list)\n",
    "    return (X,y)"
   ]
  },
  {
   "cell_type": "code",
   "execution_count": 9,
   "id": "fac58394",
   "metadata": {},
   "outputs": [],
   "source": [
    "# Collect X and Y and store in arrays:\n",
    "\n",
    "X , y = collect_dataset_spectra(dataset)"
   ]
  },
  {
   "cell_type": "markdown",
   "id": "9b11eb76",
   "metadata": {},
   "source": [
    "Train RF model with the following hyperparameters:\n",
    "\n",
    "n_estimators = 20\n",
    "\n",
    "max_samples = 0.6 \n",
    "\n",
    "min_samples_leaf = 15"
   ]
  },
  {
   "cell_type": "code",
   "execution_count": 14,
   "id": "4dc661d3",
   "metadata": {},
   "outputs": [],
   "source": [
    "# Create a random forest model\n",
    "rfc = sklearn.ensemble.RandomForestClassifier(n_estimators=20, min_samples_leaf=15,max_samples=0.6)       "
   ]
  },
  {
   "cell_type": "code",
   "execution_count": 15,
   "id": "35811ea9",
   "metadata": {},
   "outputs": [],
   "source": [
    "# split into training and testing dataset:\n",
    "X_train,X_test,y_train,y_test = sklearn.model_selection.train_test_split(X,y,train_size=0.7)"
   ]
  },
  {
   "cell_type": "code",
   "execution_count": 16,
   "id": "ae7289a9",
   "metadata": {},
   "outputs": [
    {
     "name": "stdout",
     "output_type": "stream",
     "text": [
      "It took 2.966372179985046 minutes to train the model\n"
     ]
    }
   ],
   "source": [
    "# Train classifier \n",
    "import time\n",
    "start = time.time()\n",
    "rfc.fit(X_train,y_train)\n",
    "end = time.time()\n",
    "print(\"It took\" ,(end-start)/60, \"minutes to train the model\")\n"
   ]
  },
  {
   "cell_type": "code",
   "execution_count": 17,
   "id": "a214d0b2",
   "metadata": {},
   "outputs": [
    {
     "data": {
      "text/plain": [
       "array([0.30833162, 0.22477472, 0.0991687 , 0.13688232, 0.06576244,\n",
       "       0.05432049, 0.09557576, 0.01518396])"
      ]
     },
     "execution_count": 17,
     "metadata": {},
     "output_type": "execute_result"
    }
   ],
   "source": [
    "rfc.feature_importances_"
   ]
  },
  {
   "cell_type": "code",
   "execution_count": 18,
   "id": "adb0e85b",
   "metadata": {},
   "outputs": [
    {
     "name": "stdout",
     "output_type": "stream",
     "text": [
      "It took 3.6622650623321533 secounds to apply the model on test dataset\n"
     ]
    }
   ],
   "source": [
    "# Apply it to test dataset\n",
    "start = time.time()\n",
    "y_test_pred = rfc.predict(X_test)\n",
    "end = time.time()\n",
    "print(\"It took\" ,end-start, \"secounds to apply the model on test dataset\")"
   ]
  },
  {
   "cell_type": "code",
   "execution_count": 19,
   "id": "46e11f65",
   "metadata": {},
   "outputs": [
    {
     "data": {
      "image/png": "[encoded data removed]",
      "text/plain": [
       "<Figure size 432x288 with 2 Axes>"
      ]
     },
     "metadata": {
      "needs_background": "light"
     },
     "output_type": "display_data"
    }
   ],
   "source": [
    "# Show confusion matrix\n",
    "display_labels = ['Sand', 'Seagrass', 'Seagrass w/turf','Rockweed','Other algae']\n",
    "confusion_matrix = sklearn.metrics.confusion_matrix(y_test,y_test_pred,normalize='true')\n",
    "disp = sklearn.metrics.ConfusionMatrixDisplay(confusion_matrix*100,display_labels=display_labels)\n",
    "disp.plot(xticks_rotation='vertical',cmap='gist_earth',values_format='.1f')\n",
    "plt.title('Confusion matrix (%)')\n",
    "plt.show()"
   ]
  },
  {
   "cell_type": "code",
   "execution_count": 20,
   "id": "896df642",
   "metadata": {},
   "outputs": [],
   "source": [
    "# save the model to file\n",
    "filename = 'rfc.sav'\n",
    "pickle.dump(rfc, open(filename, 'wb'))"
   ]
  },
  {
   "cell_type": "code",
   "execution_count": 21,
   "id": "c75300ae",
   "metadata": {},
   "outputs": [],
   "source": [
    "# load the model from disk\n",
    "loaded_model = pickle.load(open(filename, 'rb'))"
   ]
  },
  {
   "cell_type": "code",
   "execution_count": 22,
   "id": "495ed993",
   "metadata": {},
   "outputs": [
    {
     "data": {
      "text/plain": [
       "array([0.30833162, 0.22477472, 0.0991687 , 0.13688232, 0.06576244,\n",
       "       0.05432049, 0.09557576, 0.01518396])"
      ]
     },
     "execution_count": 22,
     "metadata": {},
     "output_type": "execute_result"
    }
   ],
   "source": [
    "rfc.feature_importances_"
   ]
  },
  {
   "cell_type": "code",
   "execution_count": 23,
   "id": "cc7adc2b",
   "metadata": {},
   "outputs": [
    {
     "data": {
      "text/plain": [
       "array([0.30833162, 0.22477472, 0.0991687 , 0.13688232, 0.06576244,\n",
       "       0.05432049, 0.09557576, 0.01518396])"
      ]
     },
     "execution_count": 23,
     "metadata": {},
     "output_type": "execute_result"
    }
   ],
   "source": [
    "loaded_model.feature_importances_"
   ]
  }
 ],
 "metadata": {
  "kernelspec": {
   "display_name": "Python 3 (ipykernel)",
   "language": "python",
   "name": "python3"
  },
  "language_info": {
   "codemirror_mode": {
    "name": "ipython",
    "version": 3
   },
   "file_extension": ".py",
   "mimetype": "text/x-python",
   "name": "python",
   "nbconvert_exporter": "python",
   "pygments_lexer": "ipython3",
   "version": "3.9.7"
  }
 },
 "nbformat": 4,
 "nbformat_minor": 5
}
