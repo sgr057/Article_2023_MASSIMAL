{
 "cells": [
  {
   "cell_type": "code",
   "execution_count": 1,
   "id": "804c1158",
   "metadata": {},
   "outputs": [],
   "source": [
    "import numpy as np\n",
    "import matplotlib.pyplot as plt\n",
    "import skimage\n",
    "import sys\n",
    "sys.path.append('/Users/siljegrue/Library/CloudStorage/OneDrive-UiTOffice365/Desktop/uit/Article 2023/Code/Article_2023_MASSIMAL//')\n",
    "import batch_processes, annotation, hyspec_io\n",
    "import h5py"
   ]
  },
  {
   "cell_type": "code",
   "execution_count": 2,
   "id": "739d4e66",
   "metadata": {},
   "outputs": [],
   "source": [
    "#Paths South side\n",
    "\n",
    "from paths import *\n",
    "\n",
    "hyspec_dir = hyspec_dir_south\n",
    "annotation_dir = annotation_dir_south_greyscale\n",
    "json_gray = json_gray"
   ]
  },
  {
   "cell_type": "code",
   "execution_count": 3,
   "id": "ed811de8",
   "metadata": {},
   "outputs": [],
   "source": [
    "# Read annotation metadata file, show classes\n",
    "class_dict = annotation.read_hasty_metadata(json_gray)"
   ]
  },
  {
   "cell_type": "code",
   "execution_count": 4,
   "id": "99a658f6",
   "metadata": {},
   "outputs": [
    {
     "name": "stdout",
     "output_type": "stream",
     "text": [
      "Processing file: OlbergholmenS_Pika_L_1-Radiance From Raw Data-Georectify Airborne Datacube\n",
      "Processing file: OlbergholmenS_Pika_L_10-Radiance From Raw Data-Georectify Airborne Datacube\n",
      "Processing file: OlbergholmenS_Pika_L_11-Radiance From Raw Data-Georectify Airborne Datacube\n",
      "Processing file: OlbergholmenS_Pika_L_12-Radiance From Raw Data-Georectify Airborne Datacube\n",
      "Processing file: OlbergholmenS_Pika_L_15-Radiance From Raw Data-Georectify Airborne Datacube\n",
      "Processing file: OlbergholmenS_Pika_L_16-Radiance From Raw Data-Georectify Airborne Datacube\n",
      "Processing file: OlbergholmenS_Pika_L_17-Radiance From Raw Data-Georectify Airborne Datacube\n",
      "Processing file: OlbergholmenS_Pika_L_18-Radiance From Raw Data-Georectify Airborne Datacube\n",
      "Processing file: OlbergholmenS_Pika_L_2-Radiance From Raw Data-Georectify Airborne Datacube\n",
      "Processing file: OlbergholmenS_Pika_L_23-Radiance From Raw Data-Georectify Airborne Datacube\n",
      "Processing file: OlbergholmenS_Pika_L_24-Radiance From Raw Data-Georectify Airborne Datacube\n",
      "Processing file: OlbergholmenS_Pika_L_8-Radiance From Raw Data-Georectify Airborne Datacube\n",
      "Processing file: OlbergholmenS_Pika_L_9-Radiance From Raw Data-Georectify Airborne Datacube\n"
     ]
    }
   ],
   "source": [
    "# Collect annotated images \n",
    "\n",
    "data = batch_processes.collect_annotated_data(class_dict,hyspec_dir,annotation_dir)\n",
    "\n",
    "\n",
    "# list of dicts for the images that are in the folder\n",
    "# Collect datasets in dict with keys:\n",
    "    # hyspec_file\n",
    "    # annotation_file\n",
    "    # nonzero_mask \n",
    "    # annotation_mask\n",
    "    # spectra\n",
    "# the spectra is a dict with keys that corresponds to all classes.\n",
    "# each key wil give the collected pixels for that class in that image,\n",
    "# stored in an array with shape [n,173], where n is the number of annotated pixels in that image"
   ]
  },
  {
   "cell_type": "code",
   "execution_count": 5,
   "id": "8f1e3d68",
   "metadata": {},
   "outputs": [
    {
     "name": "stdout",
     "output_type": "stream",
     "text": [
      "['Sand', 'Gravel', 'Mud', 'Terrestrial', 'Zostera marina - dominant', 'Zostera marina - normal', 'Zostera marina - sparse', 'Zostera marina with turf algae', 'Turf algae - dominant', 'Turf algae - normal', 'Turf algae - sparse', 'Rockweed', 'Rockweed with turf algae', 'Fucus serratus', 'Aegagropila (algae ball)', 'Mixed algae classes on soft substrate', 'Saccharina latissima']\n"
     ]
    }
   ],
   "source": [
    "# List of names of all classes in the dataset\n",
    "names = []\n",
    "for name in class_dict.keys():\n",
    "\tnames.append(name)\n",
    "print(names)"
   ]
  },
  {
   "cell_type": "code",
   "execution_count": 6,
   "id": "88548983",
   "metadata": {},
   "outputs": [],
   "source": [
    "\"\"\"Extract annotated pixels in the dataset\"\"\"\n",
    "\n",
    "#Loop through all images in the dataset, check which classes are annotated\n",
    "#in that image, and store those pixels in an array \n",
    "\n",
    "def extract_annotated_pixels(data):\n",
    "    \n",
    "    \"\"\"Extract annoated pixels in the dataset by looping thruogh all images in the dataset and \n",
    "    store those pixels in an array with the corresponding class\n",
    "    \n",
    "    data = dataset; images stored in a dict with keys:\n",
    "    # hyspec_file\n",
    "    # annotation_file\n",
    "    # nonzero_mask \n",
    "    # annotation_mask\n",
    "    # spectra\n",
    "    \n",
    "    \n",
    "    returns:\n",
    "    annotated_pixels = array with all annotated pixels [n x 173]\n",
    "    class_labels = array with corresponding class labels [n]\n",
    "    \"\"\"\n",
    "    \n",
    "    \n",
    "    \n",
    "    class_labels = [] # to store all class labels in\n",
    "    classes_in_dataset = [] # need to store them later\n",
    "    counter = 0\n",
    "    for data_dict in data:    #loop through all images in the dataset\n",
    "        \n",
    "        \n",
    "        \n",
    "        spectra = data_dict[\"spectra\"] # the spectra (pixels values for each spectral band) for this image\n",
    "        \n",
    "        \n",
    "        for n in names:  # loop through all classes\n",
    "        \n",
    "            spec = spectra[n]  # spectral information for class n, for each pixel in class n\n",
    "            X = []   # to store annoated pixels in\n",
    "            \n",
    "            if spec.size > 0: \n",
    "      # if <0: then no annotated pixels for this class\n",
    "      # if >0: then there are annotated pixels in this class in this image\n",
    "                \n",
    "                if n not in classes_in_dataset:\n",
    "                    classes_in_dataset.append(n) \n",
    "                    \n",
    "                X.append(spec) # store the annotated pixels from class n\n",
    "                X = np.array(X).reshape((len(X[0]),173)) #store pixels in an array rather than list\n",
    "       \n",
    "        \n",
    "        # spec.shape[0] = the number of annotated pixels from class n\n",
    "        # therefore, store the class name (n) times spec.shape[0] \n",
    "                \n",
    "                class_labels.append([n] * spec.shape[0]) \n",
    "                \n",
    "                \n",
    "               \n",
    "     \n",
    "    # store all extracted pixels for this image in an array\n",
    "    \n",
    "    \n",
    "                if counter == 0:\n",
    "                    annotated_pixels = X\n",
    "            \n",
    "                else:\n",
    "                    annotated_pixels = np.concatenate((annotated_pixels,X),axis=0)  # annorated pixels\n",
    "                counter += 1\n",
    "    \n",
    "    \n",
    "    class_labels = [ item for elem in class_labels for item in elem]\n",
    "    class_labels = np.array(class_labels)\n",
    "  \n",
    "    \n",
    "    return annotated_pixels , class_labels"
   ]
  },
  {
   "cell_type": "code",
   "execution_count": 7,
   "id": "159f5f68",
   "metadata": {},
   "outputs": [],
   "source": [
    "\"\"\"Extract annotated pixels and their corresponding class labels from dataset\"\"\"\n",
    "annotated_pixels, class_labels = extract_annotated_pixels(data)"
   ]
  },
  {
   "cell_type": "code",
   "execution_count": 9,
   "id": "2fbccce7",
   "metadata": {},
   "outputs": [
    {
     "name": "stdout",
     "output_type": "stream",
     "text": [
      "['Aegagropila (algae ball)' 'Fucus serratus'\n",
      " 'Mixed algae classes on soft substrate' 'Rockweed with turf algae'\n",
      " 'Saccharina latissima' 'Sand' 'Turf algae - dominant'\n",
      " 'Zostera marina - dominant' 'Zostera marina with turf algae']\n"
     ]
    }
   ],
   "source": [
    "# Identify which classes are annotated in the dataset (not all classes are represented)\n",
    "classes_in_dataset = np.unique(class_labels)\n",
    "print(classes_in_dataset)"
   ]
  },
  {
   "cell_type": "code",
   "execution_count": null,
   "id": "260a1001",
   "metadata": {},
   "outputs": [],
   "source": [
    "\"\"\" Define classes:\"\"\"\n",
    "\n",
    "z_m =  ['Zostera marina - dominant']\n",
    "z_m_t = ['Zostera marina with turf algae']\n",
    "sand = ['Sand']\n",
    "kelp = ['Fucus serratus', 'Rockweed with turf algae']\n",
    "other = ['Aegagropila (algae ball)', 'Turf algae - dominant', 'Saccharina latissima']\n",
    "mixed = ['Mixed algae classes on soft substrate'] #(this class will not be part of the training/validation)\n"
   ]
  },
  {
   "cell_type": "code",
   "execution_count": null,
   "id": "53dfaad9",
   "metadata": {},
   "outputs": [],
   "source": []
  },
  {
   "cell_type": "markdown",
   "id": "807f9f1e",
   "metadata": {},
   "source": [
    "Random Forest"
   ]
  },
  {
   "cell_type": "code",
   "execution_count": 10,
   "id": "f1394dc2",
   "metadata": {},
   "outputs": [],
   "source": [
    "# imports\n",
    "\n",
    "from sklearn.preprocessing import StandardScaler\n",
    "from sklearn.decomposition import PCA\n",
    "\n",
    "from sklearn.ensemble import RandomForestClassifier\n",
    "from sklearn.svm import SVC\n",
    "\n",
    "from sklearn.pipeline import make_pipeline\n",
    "from sklearn.metrics import accuracy_score\n",
    "\n",
    "from sklearn.metrics import multilabel_confusion_matrix  \n",
    "from sklearn.metrics import confusion_matrix\n",
    "from sklearn.utils.multiclass import unique_labels\n",
    "import pandas as pd"
   ]
  },
  {
   "cell_type": "code",
   "execution_count": null,
   "id": "11c4586b",
   "metadata": {},
   "outputs": [],
   "source": []
  }
 ],
 "metadata": {
  "kernelspec": {
   "display_name": "Python 3 (ipykernel)",
   "language": "python",
   "name": "python3"
  },
  "language_info": {
   "codemirror_mode": {
    "name": "ipython",
    "version": 3
   },
   "file_extension": ".py",
   "mimetype": "text/x-python",
   "name": "python",
   "nbconvert_exporter": "python",
   "pygments_lexer": "ipython3",
   "version": "3.9.7"
  }
 },
 "nbformat": 4,
 "nbformat_minor": 5
}
