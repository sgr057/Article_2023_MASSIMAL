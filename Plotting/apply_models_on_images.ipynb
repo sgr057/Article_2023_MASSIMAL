{
 "cells": [
  {
   "cell_type": "markdown",
   "id": "6bbb4427",
   "metadata": {},
   "source": [
    "Code written in colabboration with Martin Hansen Skjelvareid."
   ]
  },
  {
   "cell_type": "code",
   "execution_count": 1,
   "id": "60ef9d4e",
   "metadata": {},
   "outputs": [],
   "source": [
    "# Disable TensorFlow debugging info and warnings\n",
    "import os\n",
    "os.environ['TF_CPP_MIN_LOG_LEVEL'] = '2'  # 2: Info and warnings not displayed "
   ]
  },
  {
   "cell_type": "code",
   "execution_count": 2,
   "id": "797dc2fa",
   "metadata": {},
   "outputs": [],
   "source": [
    "import numpy as np\n",
    "import skimage.io\n",
    "import matplotlib.pyplot as plt\n",
    "import matplotlib.colors\n",
    "import pathlib\n",
    "import tensorflow as tf\n",
    "import sklearn.metrics\n",
    "import pickle\n",
    "import time\n",
    "import skimage.filters.rank\n",
    "import skimage.morphology\n",
    "import sys\n",
    "sys.path.insert(1, '/Users/siljegrue/Library/CloudStorage/OneDrive-UiTOffice365/Desktop/uit/Article 2023/Code/Article_2023_MASSIMAL')\n",
    "import annotation, hyspec_cnn, hyspec_ml #, misc, hyspec_io, image_render, hyspec_ml, hyspec_cnn, preprocess"
   ]
  },
  {
   "cell_type": "code",
   "execution_count": 3,
   "id": "155cef87",
   "metadata": {},
   "outputs": [],
   "source": [
    "# Load RF model\n",
    "rf_model = pickle.load(open(\"/Users/siljegrue/Library/CloudStorage/OneDrive-UiTOffice365/Desktop/uit/Article 2023/Code/Article_2023_MASSIMAL/machine_learning/RF_model.sav\", 'rb'))"
   ]
  },
  {
   "cell_type": "code",
   "execution_count": 4,
   "id": "283cae71",
   "metadata": {},
   "outputs": [],
   "source": [
    "# Disable GPUs\n",
    "tf.config.set_visible_devices([], 'GPU')\n",
    "visible_devices = tf.config.get_visible_devices()\n",
    "for device in visible_devices:\n",
    "    assert device.device_type != 'GPU'"
   ]
  },
  {
   "cell_type": "code",
   "execution_count": 5,
   "id": "e35b59a9",
   "metadata": {},
   "outputs": [],
   "source": [
    "# Paths\n",
    "base_dir1 = pathlib.Path('/Volumes/MASTER_SSD/Article/Data/South')\n",
    "base_dir2 = pathlib.Path(\"/Users/siljegrue/Downloads\")\n",
    "\n",
    "json_gray = base_dir1 / 'Annotation/label_classes.json'\n",
    "hyspec_images_dir  = base_dir2 / '4a_Rad_Georef_SGC'\n",
    "#validation_images_dir= \"/Volumes/MASTER_SSD/Article/Data/South/Validation_images\"\n",
    "validation_images_dir = base_dir2 / 'Validation_images'\n",
    "#unet_model_path = base_dir / 'X_SavedKerasModels/InpaintedDataset_TestImages-12-17-24/20230511_Unet_Depth2_UsingReduceLrOnPlateau/unet_model.epoch40-loss0.028375-acc0.887.hdf5'\n",
    "#rf_model_path = base_dir / 'X_SavedModels_RF_SVM/20210825_OlbergAreaS_RandomForest_InpaintedDataset.pkl'\n",
    "#svm_model_path = base_dir / 'X_SavedModels_RF_SVM/20210825_OlbergAreaS_SVM_InpaintedDataset.pkl'"
   ]
  },
  {
   "cell_type": "code",
   "execution_count": 6,
   "id": "07bc87f0",
   "metadata": {},
   "outputs": [],
   "source": [
    "# Parameters\n",
    "PAD_MULTIPLE = 2**5\n",
    "\n",
    "# Instructions for merging / extracting classes\n",
    "classes_to_merge = [['Zostera marina - dominant','Zostera marina - normal','Zostera marina - sparse'],\n",
    "                    ['Rockweed','Rockweed with turf algae','Fucus serratus','Saccharina latissima'],\n",
    "                    ['Turf algae - dominant','Turf algae - normal','Turf algae - sparse','Aegagropila (algae ball)']]\n",
    "merged_class_names = ['Zostera marina',\n",
    "                      'Rockweed',\n",
    "                      'Other algae']\n",
    "classes_to_extract = ['Sand',\n",
    "                      'Zostera marina',\n",
    "                      'Zostera marina with turf algae',\n",
    "                      'Rockweed',\n",
    "                      'Other algae']\n",
    "\n",
    "# Colormap\n",
    "custom_cmap = matplotlib.colors.ListedColormap(colors=['black','aqua','yellowgreen','forestgreen','brown','violet'])"
   ]
  },
  {
   "cell_type": "code",
   "execution_count": 7,
   "id": "20b2347e",
   "metadata": {},
   "outputs": [],
   "source": [
    "# Read annotation metadata file, show classes\n",
    "class_dict = annotation.read_hasty_metadata(json_gray)"
   ]
  },
  {
   "cell_type": "code",
   "execution_count": 8,
   "id": "7d011987",
   "metadata": {},
   "outputs": [],
   "source": [
    "# Load images, pad, merge classes \n",
    "pca_images = []\n",
    "label_images = []\n",
    "rgb_images = []\n",
    "#dataset_paths = validation_images_dir.glob('*')\n",
    "\n",
    "im12 = base_dir2 / 'Validation_images2/OlbergholmenS_Pika_L_12-Radiance From Raw Data-Georectify Airborne Datacube'\n",
    "im17 = base_dir2 / 'Validation_images2/OlbergholmenS_Pika_L_17-Radiance From Raw Data-Georectify Airborne Datacube'\n",
    "im24 = base_dir2 / 'Validation_images2/OlbergholmenS_Pika_L_24-Radiance From Raw Data-Georectify Airborne Datacube'\n",
    "\n",
    "dataset_paths = [im12, im17, im24]\n",
    "\n",
    "for dataset_path in dataset_paths:\n",
    "    # Load tensorflow datasets\n",
    "    dataset = tf.data.experimental.load(str(dataset_path))\n",
    "    pca_im, label_im = [d for d in dataset.as_numpy_iterator()][0]\n",
    "    pca_im = hyspec_cnn.pad_image_to_multiple(pca_im,PAD_MULTIPLE)\n",
    "    label_im = hyspec_cnn.pad_image_to_multiple(label_im,PAD_MULTIPLE)\n",
    "    \n",
    "        # Load RGB images (located together with hyperspectral images)\n",
    "    rgb_im = skimage.io.imread(hyspec_images_dir / (dataset_path.stem + '.png'))\n",
    "    rgb_im = hyspec_cnn.pad_image_to_multiple(rgb_im,PAD_MULTIPLE)\n",
    "    \n",
    "    # Read and filter label image (class mask)\n",
    "    merged_class_dict, merged_class_mask = annotation.merge_classes_with_mask(\n",
    "        class_dict,label_im,classes_to_merge,merged_class_names)\n",
    "    filtered_class_dict, filtered_class_mask = annotation.extract_subset(\n",
    "        merged_class_dict,merged_class_mask,classes_to_extract)\n",
    "    \n",
    "    # Append images to lists\n",
    "    pca_images.append(pca_im)\n",
    "    label_images.append(filtered_class_mask)\n",
    "    rgb_images.append(rgb_im)"
   ]
  },
  {
   "cell_type": "code",
   "execution_count": 9,
   "id": "da95bbd8",
   "metadata": {},
   "outputs": [],
   "source": [
    "# Load random forest model\n",
    "rf_path = \"/Users/siljegrue/Library/CloudStorage/OneDrive-UiTOffice365/Desktop/uit/Article 2023/Code/Article_2023_MASSIMAL/machine_learning/RF_model.sav\"      \n",
    "rfc = pickle.load(open(rf_path,'rb'))"
   ]
  },
  {
   "cell_type": "code",
   "execution_count": 10,
   "id": "e279e026",
   "metadata": {},
   "outputs": [
    {
     "ename": "TypeError",
     "evalue": "binary_closing() got an unexpected keyword argument 'footprint'",
     "output_type": "error",
     "traceback": [
      "\u001b[0;31m---------------------------------------------------------------------------\u001b[0m",
      "\u001b[0;31mTypeError\u001b[0m                                 Traceback (most recent call last)",
      "\u001b[0;32m/var/folders/83/8zyzl6t92t10_6c23db8rxjc0000gn/T/ipykernel_6474/3635936200.py\u001b[0m in \u001b[0;36m<module>\u001b[0;34m\u001b[0m\n\u001b[1;32m      2\u001b[0m \u001b[0mlabel_images_rf\u001b[0m \u001b[0;34m=\u001b[0m \u001b[0;34m[\u001b[0m\u001b[0;34m]\u001b[0m\u001b[0;34m\u001b[0m\u001b[0;34m\u001b[0m\u001b[0m\n\u001b[1;32m      3\u001b[0m \u001b[0;32mfor\u001b[0m \u001b[0mpca_im\u001b[0m \u001b[0;32min\u001b[0m \u001b[0mpca_images\u001b[0m\u001b[0;34m:\u001b[0m\u001b[0;34m\u001b[0m\u001b[0;34m\u001b[0m\u001b[0m\n\u001b[0;32m----> 4\u001b[0;31m     \u001b[0mpred_im\u001b[0m \u001b[0;34m=\u001b[0m \u001b[0mhyspec_ml\u001b[0m\u001b[0;34m.\u001b[0m\u001b[0mapply_classifier_to_image\u001b[0m\u001b[0;34m(\u001b[0m\u001b[0mrfc\u001b[0m\u001b[0;34m,\u001b[0m\u001b[0mpca_im\u001b[0m\u001b[0;34m)\u001b[0m\u001b[0;34m\u001b[0m\u001b[0;34m\u001b[0m\u001b[0m\n\u001b[0m\u001b[1;32m      5\u001b[0m     \u001b[0;31m#pred_im_filt = skimage.filters.rank.majority(pred_im,skimage.morphology.square(5))\u001b[0m\u001b[0;34m\u001b[0m\u001b[0;34m\u001b[0m\u001b[0m\n\u001b[1;32m      6\u001b[0m     \u001b[0;31m#label_images_rf.append(pred_im_filt)\u001b[0m\u001b[0;34m\u001b[0m\u001b[0;34m\u001b[0m\u001b[0m\n",
      "\u001b[0;32m~/Library/CloudStorage/OneDrive-UiTOffice365/Desktop/uit/Article 2023/Code/Article_2023_MASSIMAL/hyspec_ml.py\u001b[0m in \u001b[0;36mapply_classifier_to_image\u001b[0;34m(classifier, image, fill_zeros)\u001b[0m\n\u001b[1;32m    181\u001b[0m     \u001b[0;32mif\u001b[0m \u001b[0mfill_zeros\u001b[0m\u001b[0;34m:\u001b[0m\u001b[0;34m\u001b[0m\u001b[0;34m\u001b[0m\u001b[0m\n\u001b[1;32m    182\u001b[0m         \u001b[0;31m# Determine which pixels to inpaint\u001b[0m\u001b[0;34m\u001b[0m\u001b[0;34m\u001b[0m\u001b[0m\n\u001b[0;32m--> 183\u001b[0;31m         \u001b[0mnonzero_mask_holes_filled\u001b[0m \u001b[0;34m=\u001b[0m \u001b[0mskimage\u001b[0m\u001b[0;34m.\u001b[0m\u001b[0mmorphology\u001b[0m\u001b[0;34m.\u001b[0m\u001b[0mbinary_closing\u001b[0m\u001b[0;34m(\u001b[0m\u001b[0;34m~\u001b[0m\u001b[0mzero_mask\u001b[0m\u001b[0;34m,\u001b[0m\u001b[0mfootprint\u001b[0m\u001b[0;34m=\u001b[0m\u001b[0mskimage\u001b[0m\u001b[0;34m.\u001b[0m\u001b[0mmorphology\u001b[0m\u001b[0;34m.\u001b[0m\u001b[0mdisk\u001b[0m\u001b[0;34m(\u001b[0m\u001b[0mradius\u001b[0m\u001b[0;34m=\u001b[0m\u001b[0;36m3\u001b[0m\u001b[0;34m)\u001b[0m\u001b[0;34m)\u001b[0m\u001b[0;34m\u001b[0m\u001b[0;34m\u001b[0m\u001b[0m\n\u001b[0m\u001b[1;32m    184\u001b[0m         \u001b[0minpaint_mask\u001b[0m \u001b[0;34m=\u001b[0m \u001b[0mzero_mask\u001b[0m \u001b[0;34m&\u001b[0m \u001b[0mnonzero_mask_holes_filled\u001b[0m\u001b[0;34m\u001b[0m\u001b[0;34m\u001b[0m\u001b[0m\n\u001b[1;32m    185\u001b[0m \u001b[0;34m\u001b[0m\u001b[0m\n",
      "\u001b[0;32m~/opt/anaconda3/lib/python3.9/site-packages/skimage/morphology/misc.py\u001b[0m in \u001b[0;36mfunc_out\u001b[0;34m(image, selem, *args, **kwargs)\u001b[0m\n\u001b[1;32m     37\u001b[0m         \u001b[0;32mif\u001b[0m \u001b[0mselem\u001b[0m \u001b[0;32mis\u001b[0m \u001b[0;32mNone\u001b[0m\u001b[0;34m:\u001b[0m\u001b[0;34m\u001b[0m\u001b[0;34m\u001b[0m\u001b[0m\n\u001b[1;32m     38\u001b[0m             \u001b[0mselem\u001b[0m \u001b[0;34m=\u001b[0m \u001b[0m_default_selem\u001b[0m\u001b[0;34m(\u001b[0m\u001b[0mimage\u001b[0m\u001b[0;34m.\u001b[0m\u001b[0mndim\u001b[0m\u001b[0;34m)\u001b[0m\u001b[0;34m\u001b[0m\u001b[0;34m\u001b[0m\u001b[0m\n\u001b[0;32m---> 39\u001b[0;31m         \u001b[0;32mreturn\u001b[0m \u001b[0mfunc\u001b[0m\u001b[0;34m(\u001b[0m\u001b[0mimage\u001b[0m\u001b[0;34m,\u001b[0m \u001b[0mselem\u001b[0m\u001b[0;34m=\u001b[0m\u001b[0mselem\u001b[0m\u001b[0;34m,\u001b[0m \u001b[0;34m*\u001b[0m\u001b[0margs\u001b[0m\u001b[0;34m,\u001b[0m \u001b[0;34m**\u001b[0m\u001b[0mkwargs\u001b[0m\u001b[0;34m)\u001b[0m\u001b[0;34m\u001b[0m\u001b[0;34m\u001b[0m\u001b[0m\n\u001b[0m\u001b[1;32m     40\u001b[0m \u001b[0;34m\u001b[0m\u001b[0m\n\u001b[1;32m     41\u001b[0m     \u001b[0;32mreturn\u001b[0m \u001b[0mfunc_out\u001b[0m\u001b[0;34m\u001b[0m\u001b[0;34m\u001b[0m\u001b[0m\n",
      "\u001b[0;31mTypeError\u001b[0m: binary_closing() got an unexpected keyword argument 'footprint'"
     ]
    }
   ],
   "source": [
    "# Apply random forest model to image\n",
    "label_images_rf = []\n",
    "for pca_im in pca_images:\n",
    "    pred_im = hyspec_ml.apply_classifier_to_image(rfc,pca_im)\n",
    "    #pred_im_filt = skimage.filters.rank.majority(pred_im,skimage.morphology.square(5))\n",
    "    #label_images_rf.append(pred_im_filt)"
   ]
  },
  {
   "cell_type": "code",
   "execution_count": null,
   "id": "c170568c",
   "metadata": {},
   "outputs": [],
   "source": [
    "for rgb_im, label_im, label_im_pred in zip(rgb_images,label_images,label_images_rf):\n",
    "    fig,(ax0,ax1,ax2) = plt.subplots(nrows=1,ncols=3,figsize=(12,12))\n",
    "    im1 = ax0.imshow(rgb_im)\n",
    "    im1 = ax1.imshow(label_im,interpolation='none',cmap=custom_cmap,vmin=0,vmax=5)\n",
    "    im2 = ax2.imshow(label_im_pred,interpolation='none',cmap=custom_cmap,vmin=0,vmax=5)\n",
    "    ax0.set_title('RGB image')\n",
    "    ax1.set_title('Ground truth')\n",
    "    ax2.set_title('RF prediction')\n",
    "    \n",
    "    for ax in [ax0,ax1,ax2]:\n",
    "        ax.set_xticks([])\n",
    "        ax.set_yticks([])\n",
    "    plt.show()"
   ]
  }
 ],
 "metadata": {
  "kernelspec": {
   "display_name": "Python 3 (ipykernel)",
   "language": "python",
   "name": "python3"
  },
  "language_info": {
   "codemirror_mode": {
    "name": "ipython",
    "version": 3
   },
   "file_extension": ".py",
   "mimetype": "text/x-python",
   "name": "python",
   "nbconvert_exporter": "python",
   "pygments_lexer": "ipython3",
   "version": "3.9.7"
  }
 },
 "nbformat": 4,
 "nbformat_minor": 5
}
