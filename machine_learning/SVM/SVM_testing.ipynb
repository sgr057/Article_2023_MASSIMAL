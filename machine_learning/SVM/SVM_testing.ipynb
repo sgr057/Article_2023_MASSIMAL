{
 "cells": [
  {
   "cell_type": "markdown",
   "id": "d118d4a1",
   "metadata": {},
   "source": [
    "Code written in colabboration with Martin Hansen Skjelvareid."
   ]
  },
  {
   "cell_type": "markdown",
   "id": "7f227641",
   "metadata": {},
   "source": [
    "This is a script to determine the best SVM model for the given dataset. Different values for the hyperparameters\n"
   ]
  },
  {
   "cell_type": "code",
   "execution_count": 1,
   "id": "ef742c3e",
   "metadata": {},
   "outputs": [],
   "source": [
    "# Disable TensorFlow debugging info and warnings\n",
    "import os\n",
    "os.environ['TF_CPP_MIN_LOG_LEVEL'] = '2'  # 2: Info and warnings not displayed "
   ]
  },
  {
   "cell_type": "code",
   "execution_count": 2,
   "id": "a8c8fbdf",
   "metadata": {},
   "outputs": [],
   "source": [
    "import numpy as np\n",
    "import matplotlib.pyplot as plt\n",
    "import tensorflow as tf\n",
    "import sklearn.ensemble"
   ]
  },
  {
   "cell_type": "code",
   "execution_count": 3,
   "id": "e00ed8ee",
   "metadata": {},
   "outputs": [],
   "source": [
    "# Disable GPUs (in case of Tensorflow trying to use GPUs and raising errors)\n",
    "tf.config.set_visible_devices([], 'GPU')"
   ]
  },
  {
   "cell_type": "code",
   "execution_count": 4,
   "id": "6ded85b0",
   "metadata": {},
   "outputs": [],
   "source": [
    "# Paths\n",
    "tiles_dataset_path = '/Users/siljegrue/Downloads/tiles'"
   ]
  },
  {
   "cell_type": "code",
   "execution_count": 5,
   "id": "31de84a4",
   "metadata": {},
   "outputs": [],
   "source": [
    "# Load dataset (or, rather, pointer to dataset)\n",
    "dataset = tf.data.experimental.load(tiles_dataset_path)"
   ]
  },
  {
   "cell_type": "code",
   "execution_count": 6,
   "id": "45c6eb05",
   "metadata": {},
   "outputs": [
    {
     "name": "stdout",
     "output_type": "stream",
     "text": [
      "Dataset specification: <_LoadDataset element_spec=(TensorSpec(shape=(128, 128, 8), dtype=tf.float32, name=None), TensorSpec(shape=(128, 128), dtype=tf.int32, name=None))>\n",
      "Number of tiles: 459\n"
     ]
    }
   ],
   "source": [
    "# Show dataset details\n",
    "n_tiles = int(dataset.cardinality())\n",
    "print(f'Dataset specification: {dataset}')\n",
    "print(f'Number of tiles: {n_tiles}')"
   ]
  },
  {
   "cell_type": "code",
   "execution_count": 7,
   "id": "272d4eac",
   "metadata": {},
   "outputs": [],
   "source": [
    "# Shuffle dataset (tiles are originally ordered by image)\n",
    "dataset = dataset.shuffle(buffer_size=n_tiles)"
   ]
  },
  {
   "cell_type": "code",
   "execution_count": 25,
   "id": "8794f58f",
   "metadata": {},
   "outputs": [],
   "source": [
    "#extract a smaller part of the dataset for hyperparameter tuning of SVM\n",
    "small_dataset = dataset.take(20)"
   ]
  },
  {
   "cell_type": "code",
   "execution_count": 26,
   "id": "c6bfcaac",
   "metadata": {},
   "outputs": [],
   "source": [
    "def collect_dataset_spectra(dataset):\n",
    "    \"\"\" Collect annotated pixels in feature matrix X and label vector y \"\"\"\n",
    "    pixels_list = []\n",
    "    label_list = []\n",
    "    for image_tile,label_tile in dataset:\n",
    "        annotated_mask = (label_tile > 0) # Label 0 corresponds to background (not annotated)\n",
    "        pixels_list.append(image_tile[annotated_mask])\n",
    "        label_list.append(label_tile[annotated_mask])\n",
    "    X = np.concatenate(pixels_list)\n",
    "    y = np.concatenate(label_list)\n",
    "    return (X,y)"
   ]
  },
  {
   "cell_type": "code",
   "execution_count": 27,
   "id": "438cadce",
   "metadata": {},
   "outputs": [],
   "source": [
    "# Collect X and Y and store in arrays:\n",
    "\n",
    "X , y = collect_dataset_spectra(small_dataset)"
   ]
  },
  {
   "cell_type": "code",
   "execution_count": 28,
   "id": "fd943b78",
   "metadata": {},
   "outputs": [
    {
     "name": "stdout",
     "output_type": "stream",
     "text": [
      "[1 2 3 4 5]\n"
     ]
    }
   ],
   "source": [
    "print(np.unique(y))"
   ]
  },
  {
   "cell_type": "markdown",
   "id": "2634b51e",
   "metadata": {},
   "source": [
    "Support Vector Machine Classification hyperparametertuning with GridSearchCV"
   ]
  },
  {
   "cell_type": "code",
   "execution_count": 22,
   "id": "3e75a693",
   "metadata": {},
   "outputs": [],
   "source": [
    "from sklearn import svm"
   ]
  },
  {
   "cell_type": "code",
   "execution_count": null,
   "id": "46f62d2e",
   "metadata": {},
   "outputs": [],
   "source": [
    "#clf = svm.SVC()"
   ]
  },
  {
   "cell_type": "code",
   "execution_count": null,
   "id": "91980ee2",
   "metadata": {},
   "outputs": [],
   "source": [
    "# Try grid search\n",
    "#base_estimator = svm.SVC()\n",
    "#param_grid = {'C':[0.1, 1, 10, 100, 1000],\n",
    " #             'kernel':['rbf', 'linear'],\n",
    "  #            'gamma':[1, 0.1, 0.01, 0.001, 0.0001]}\n",
    "#clf_search = sklearn.model_selection.GridSearchCV(base_estimator,param_grid,verbose=3)\n",
    "#clf_search.fit(X,y)"
   ]
  },
  {
   "cell_type": "code",
   "execution_count": 29,
   "id": "83a07ae9",
   "metadata": {},
   "outputs": [
    {
     "name": "stdout",
     "output_type": "stream",
     "text": [
      "Fitting 5 folds for each of 2 candidates, totalling 10 fits\n",
      "[CV 1/5] END ................C=1, kernel=linear;, score=0.798 total time= 1.1min\n",
      "[CV 2/5] END ................C=1, kernel=linear;, score=0.904 total time= 1.2min\n",
      "[CV 3/5] END ................C=1, kernel=linear;, score=0.894 total time= 1.4min\n",
      "[CV 4/5] END ................C=1, kernel=linear;, score=0.935 total time= 1.4min\n",
      "[CV 5/5] END ................C=1, kernel=linear;, score=0.952 total time= 1.4min\n",
      "[CV 1/5] END ...............C=10, kernel=linear;, score=0.798 total time= 5.7min\n",
      "[CV 2/5] END ...............C=10, kernel=linear;, score=0.904 total time= 6.7min\n",
      "[CV 3/5] END ...............C=10, kernel=linear;, score=0.894 total time=21.1min\n",
      "[CV 4/5] END ...............C=10, kernel=linear;, score=0.934 total time=11.8min\n",
      "[CV 5/5] END ...............C=10, kernel=linear;, score=0.951 total time= 6.7min\n"
     ]
    },
    {
     "data": {
      "text/plain": [
       "GridSearchCV(estimator=SVC(), param_grid={'C': [1, 10], 'kernel': ['linear']},\n",
       "             verbose=3)"
      ]
     },
     "execution_count": 29,
     "metadata": {},
     "output_type": "execute_result"
    }
   ],
   "source": [
    "# Try grid search\n",
    "base_estimator = svm.SVC()\n",
    "param_grid = {'C':[1, 10],\n",
    "              'kernel':['linear'],\n",
    "              }\n",
    "clf_search = sklearn.model_selection.GridSearchCV(base_estimator,param_grid,verbose=3)\n",
    "clf_search.fit(X,y)"
   ]
  },
  {
   "cell_type": "markdown",
   "id": "c2073a37",
   "metadata": {},
   "source": [
    "The classifier has an overall good performance with these set hyperparameters. However, then runtime is overall significantly longer for C = 10 than for C = 1. Lets try with another kernel to see how the score and runtime is affected. "
   ]
  },
  {
   "cell_type": "code",
   "execution_count": 30,
   "id": "f554fcd1",
   "metadata": {},
   "outputs": [
    {
     "name": "stdout",
     "output_type": "stream",
     "text": [
      "Fitting 5 folds for each of 2 candidates, totalling 10 fits\n",
      "[CV 1/5] END ...................C=1, kernel=rbf;, score=0.849 total time= 1.1min\n",
      "[CV 2/5] END ...................C=1, kernel=rbf;, score=0.918 total time=  25.7s\n",
      "[CV 3/5] END ...................C=1, kernel=rbf;, score=0.916 total time=  27.0s\n",
      "[CV 4/5] END ...................C=1, kernel=rbf;, score=0.989 total time=  36.4s\n",
      "[CV 5/5] END ...................C=1, kernel=rbf;, score=0.942 total time=  33.2s\n",
      "[CV 1/5] END ..................C=10, kernel=rbf;, score=0.871 total time=  17.6s\n",
      "[CV 2/5] END ..................C=10, kernel=rbf;, score=0.954 total time=  21.3s\n",
      "[CV 3/5] END ..................C=10, kernel=rbf;, score=0.933 total time=  22.2s\n",
      "[CV 4/5] END ..................C=10, kernel=rbf;, score=0.990 total time=  30.2s\n",
      "[CV 5/5] END ..................C=10, kernel=rbf;, score=0.943 total time=  29.0s\n"
     ]
    },
    {
     "data": {
      "text/plain": [
       "GridSearchCV(estimator=SVC(), param_grid={'C': [1, 10], 'kernel': ['rbf']},\n",
       "             verbose=3)"
      ]
     },
     "execution_count": 30,
     "metadata": {},
     "output_type": "execute_result"
    }
   ],
   "source": [
    "# Try grid search\n",
    "base_estimator = svm.SVC()\n",
    "param_grid = {'C':[1, 10],\n",
    "              'kernel':['rbf'],\n",
    "              }\n",
    "clf_search = sklearn.model_selection.GridSearchCV(base_estimator,param_grid,verbose=3)\n",
    "clf_search.fit(X,y)"
   ]
  },
  {
   "cell_type": "markdown",
   "id": "8dafb798",
   "metadata": {},
   "source": [
    "The score and runtime improved by switching to the rbf kernel. The score is not significantly better for either C = 1 nor C = 10. Lets try to vary the value of C even more: "
   ]
  },
  {
   "cell_type": "code",
   "execution_count": 31,
   "id": "9fa1bb50",
   "metadata": {},
   "outputs": [
    {
     "name": "stdout",
     "output_type": "stream",
     "text": [
      "Fitting 5 folds for each of 2 candidates, totalling 10 fits\n",
      "[CV 1/5] END .................C=0.1, kernel=rbf;, score=0.837 total time=  35.1s\n",
      "[CV 2/5] END .................C=0.1, kernel=rbf;, score=0.914 total time=  36.5s\n",
      "[CV 3/5] END .................C=0.1, kernel=rbf;, score=0.913 total time=  38.3s\n",
      "[CV 4/5] END .................C=0.1, kernel=rbf;, score=0.984 total time= 1.6min\n",
      "[CV 5/5] END .................C=0.1, kernel=rbf;, score=0.938 total time= 1.5min\n",
      "[CV 1/5] END .................C=0.5, kernel=rbf;, score=0.844 total time=  25.6s\n",
      "[CV 2/5] END .................C=0.5, kernel=rbf;, score=0.916 total time=  28.0s\n",
      "[CV 3/5] END .................C=0.5, kernel=rbf;, score=0.916 total time=  29.2s\n",
      "[CV 4/5] END .................C=0.5, kernel=rbf;, score=0.989 total time=  39.7s\n",
      "[CV 5/5] END .................C=0.5, kernel=rbf;, score=0.943 total time=  35.9s\n"
     ]
    },
    {
     "data": {
      "text/plain": [
       "GridSearchCV(estimator=SVC(), param_grid={'C': [0.1, 0.5], 'kernel': ['rbf']},\n",
       "             verbose=3)"
      ]
     },
     "execution_count": 31,
     "metadata": {},
     "output_type": "execute_result"
    }
   ],
   "source": [
    "# Try grid search\n",
    "base_estimator = svm.SVC()\n",
    "param_grid = {'C':[0.1, 0.5],\n",
    "              'kernel':['rbf'],\n",
    "              }\n",
    "clf_search = sklearn.model_selection.GridSearchCV(base_estimator,param_grid,verbose=3)\n",
    "clf_search.fit(X,y)"
   ]
  },
  {
   "cell_type": "markdown",
   "id": "dd66d993",
   "metadata": {},
   "source": [
    "The score did not increase substantialy. Neither did the runtime. Will try to vary the gamma parameter as well."
   ]
  },
  {
   "cell_type": "code",
   "execution_count": 32,
   "id": "d88feeaa",
   "metadata": {},
   "outputs": [
    {
     "name": "stdout",
     "output_type": "stream",
     "text": [
      "Fitting 5 folds for each of 4 candidates, totalling 20 fits\n",
      "[CV 1/5] END .....C=0.1, gamma=auto, kernel=rbf;, score=0.859 total time= 1.4min\n",
      "[CV 2/5] END .....C=0.1, gamma=auto, kernel=rbf;, score=0.932 total time= 1.4min\n",
      "[CV 3/5] END .....C=0.1, gamma=auto, kernel=rbf;, score=0.924 total time= 1.6min\n",
      "[CV 4/5] END .....C=0.1, gamma=auto, kernel=rbf;, score=0.970 total time= 1.6min\n",
      "[CV 5/5] END .....C=0.1, gamma=auto, kernel=rbf;, score=0.916 total time= 1.5min\n",
      "[CV 1/5] END ....C=0.1, gamma=scale, kernel=rbf;, score=0.837 total time=  35.1s\n",
      "[CV 2/5] END ....C=0.1, gamma=scale, kernel=rbf;, score=0.914 total time=  36.5s\n",
      "[CV 3/5] END ....C=0.1, gamma=scale, kernel=rbf;, score=0.913 total time=  38.4s\n",
      "[CV 4/5] END ....C=0.1, gamma=scale, kernel=rbf;, score=0.984 total time= 1.6min\n",
      "[CV 5/5] END ....C=0.1, gamma=scale, kernel=rbf;, score=0.938 total time= 1.5min\n",
      "[CV 1/5] END .....C=0.5, gamma=auto, kernel=rbf;, score=0.877 total time= 1.7min\n",
      "[CV 2/5] END .....C=0.5, gamma=auto, kernel=rbf;, score=0.943 total time= 1.7min\n",
      "[CV 3/5] END .....C=0.5, gamma=auto, kernel=rbf;, score=0.937 total time= 1.9min\n",
      "[CV 4/5] END .....C=0.5, gamma=auto, kernel=rbf;, score=0.982 total time= 1.8min\n",
      "[CV 5/5] END .....C=0.5, gamma=auto, kernel=rbf;, score=0.925 total time= 1.8min\n",
      "[CV 1/5] END ....C=0.5, gamma=scale, kernel=rbf;, score=0.844 total time=  25.2s\n",
      "[CV 2/5] END ....C=0.5, gamma=scale, kernel=rbf;, score=0.916 total time=  28.2s\n",
      "[CV 3/5] END ....C=0.5, gamma=scale, kernel=rbf;, score=0.916 total time=  29.3s\n",
      "[CV 4/5] END ....C=0.5, gamma=scale, kernel=rbf;, score=0.989 total time=  39.6s\n",
      "[CV 5/5] END ....C=0.5, gamma=scale, kernel=rbf;, score=0.943 total time=  36.6s\n"
     ]
    },
    {
     "data": {
      "text/plain": [
       "GridSearchCV(estimator=SVC(),\n",
       "             param_grid={'C': [0.1, 0.5], 'gamma': ['auto', 'scale'],\n",
       "                         'kernel': ['rbf']},\n",
       "             verbose=3)"
      ]
     },
     "execution_count": 32,
     "metadata": {},
     "output_type": "execute_result"
    }
   ],
   "source": [
    "# Try grid search\n",
    "base_estimator = svm.SVC()\n",
    "param_grid = {'C':[0.1, 0.5],\n",
    "              'kernel':['rbf'],\n",
    "              \"gamma\":[\"auto\", \"scale\"]\n",
    "              }\n",
    "clf_search = sklearn.model_selection.GridSearchCV(base_estimator,param_grid,verbose=3)\n",
    "clf_search.fit(X,y)"
   ]
  },
  {
   "cell_type": "markdown",
   "id": "2b7bd2fc",
   "metadata": {},
   "source": [
    "The score does not differ significantly between gamma = scale and gamma = auto. However, then runtime for gamma = scale is on average ca. half of the runtime for gamma = auto, for C = 0.5. "
   ]
  },
  {
   "cell_type": "markdown",
   "id": "01ac4181",
   "metadata": {},
   "source": [
    "Lets try another kernel function. Lets try poly and sigmoid kernel functins. "
   ]
  },
  {
   "cell_type": "code",
   "execution_count": 33,
   "id": "b0762cf2",
   "metadata": {},
   "outputs": [
    {
     "name": "stdout",
     "output_type": "stream",
     "text": [
      "Fitting 5 folds for each of 16 candidates, totalling 80 fits\n",
      "[CV 1/5] END ....C=0.1, gamma=auto, kernel=poly;, score=0.870 total time= 5.8min\n",
      "[CV 2/5] END ....C=0.1, gamma=auto, kernel=poly;, score=0.948 total time= 6.1min\n",
      "[CV 3/5] END ....C=0.1, gamma=auto, kernel=poly;, score=0.914 total time= 8.7min\n",
      "[CV 4/5] END ....C=0.1, gamma=auto, kernel=poly;, score=0.965 total time= 9.9min\n",
      "[CV 5/5] END ....C=0.1, gamma=auto, kernel=poly;, score=0.926 total time= 4.1min\n",
      "[CV 1/5] END .C=0.1, gamma=auto, kernel=sigmoid;, score=0.759 total time= 2.6min\n",
      "[CV 2/5] END .C=0.1, gamma=auto, kernel=sigmoid;, score=0.752 total time= 1.8min\n",
      "[CV 3/5] END .C=0.1, gamma=auto, kernel=sigmoid;, score=0.833 total time= 1.4min\n",
      "[CV 4/5] END .C=0.1, gamma=auto, kernel=sigmoid;, score=0.893 total time= 1.6min\n",
      "[CV 5/5] END .C=0.1, gamma=auto, kernel=sigmoid;, score=0.828 total time= 1.1min\n",
      "[CV 1/5] END ...C=0.1, gamma=scale, kernel=poly;, score=0.824 total time=  41.5s\n",
      "[CV 2/5] END ...C=0.1, gamma=scale, kernel=poly;, score=0.908 total time=  36.9s\n",
      "[CV 3/5] END ...C=0.1, gamma=scale, kernel=poly;, score=0.877 total time= 1.1min\n",
      "[CV 4/5] END ...C=0.1, gamma=scale, kernel=poly;, score=0.896 total time=  44.4s\n",
      "[CV 5/5] END ...C=0.1, gamma=scale, kernel=poly;, score=0.878 total time= 1.2min\n",
      "[CV 1/5] END C=0.1, gamma=scale, kernel=sigmoid;, score=0.805 total time=  49.9s\n",
      "[CV 2/5] END C=0.1, gamma=scale, kernel=sigmoid;, score=0.773 total time=  43.3s\n",
      "[CV 3/5] END C=0.1, gamma=scale, kernel=sigmoid;, score=0.821 total time= 1.3min\n",
      "[CV 4/5] END C=0.1, gamma=scale, kernel=sigmoid;, score=0.858 total time= 1.6min\n",
      "[CV 5/5] END C=0.1, gamma=scale, kernel=sigmoid;, score=0.858 total time=  43.9s\n",
      "[CV 1/5] END ....C=0.5, gamma=auto, kernel=poly;, score=0.872 total time=22.9min\n",
      "[CV 2/5] END ....C=0.5, gamma=auto, kernel=poly;, score=0.948 total time=23.0min\n",
      "[CV 3/5] END ....C=0.5, gamma=auto, kernel=poly;, score=0.914 total time=39.8min\n",
      "[CV 4/5] END ....C=0.5, gamma=auto, kernel=poly;, score=0.965 total time=37.5min\n",
      "[CV 5/5] END ....C=0.5, gamma=auto, kernel=poly;, score=0.926 total time=14.5min\n",
      "[CV 1/5] END .C=0.5, gamma=auto, kernel=sigmoid;, score=0.760 total time= 1.6min\n",
      "[CV 2/5] END .C=0.5, gamma=auto, kernel=sigmoid;, score=0.756 total time= 1.6min\n",
      "[CV 3/5] END .C=0.5, gamma=auto, kernel=sigmoid;, score=0.832 total time= 1.4min\n",
      "[CV 4/5] END .C=0.5, gamma=auto, kernel=sigmoid;, score=0.892 total time= 1.6min\n",
      "[CV 5/5] END .C=0.5, gamma=auto, kernel=sigmoid;, score=0.829 total time= 1.1min\n",
      "[CV 1/5] END ...C=0.5, gamma=scale, kernel=poly;, score=0.823 total time=  32.1s\n",
      "[CV 2/5] END ...C=0.5, gamma=scale, kernel=poly;, score=0.912 total time=  30.4s\n",
      "[CV 3/5] END ...C=0.5, gamma=scale, kernel=poly;, score=0.905 total time=  33.7s\n",
      "[CV 4/5] END ...C=0.5, gamma=scale, kernel=poly;, score=0.907 total time= 1.1min\n",
      "[CV 5/5] END ...C=0.5, gamma=scale, kernel=poly;, score=0.912 total time=  34.1s\n",
      "[CV 1/5] END C=0.5, gamma=scale, kernel=sigmoid;, score=0.807 total time=  52.5s\n",
      "[CV 2/5] END C=0.5, gamma=scale, kernel=sigmoid;, score=0.766 total time=  33.2s\n",
      "[CV 3/5] END C=0.5, gamma=scale, kernel=sigmoid;, score=0.827 total time=  33.9s\n",
      "[CV 4/5] END C=0.5, gamma=scale, kernel=sigmoid;, score=0.856 total time= 1.5min\n",
      "[CV 5/5] END C=0.5, gamma=scale, kernel=sigmoid;, score=0.834 total time=  39.4s\n",
      "[CV 1/5] END ......C=1, gamma=auto, kernel=poly;, score=0.872 total time=59.2min\n",
      "[CV 2/5] END ......C=1, gamma=auto, kernel=poly;, score=0.949 total time=62.4min\n",
      "[CV 3/5] END .....C=1, gamma=auto, kernel=poly;, score=0.915 total time=108.7min\n",
      "[CV 4/5] END ......C=1, gamma=auto, kernel=poly;, score=0.965 total time=91.3min\n",
      "[CV 5/5] END ......C=1, gamma=auto, kernel=poly;, score=0.925 total time=33.3min\n",
      "[CV 1/5] END ...C=1, gamma=auto, kernel=sigmoid;, score=0.759 total time= 3.8min\n",
      "[CV 2/5] END ...C=1, gamma=auto, kernel=sigmoid;, score=0.752 total time= 2.5min\n",
      "[CV 3/5] END ...C=1, gamma=auto, kernel=sigmoid;, score=0.832 total time= 1.9min\n",
      "[CV 4/5] END ...C=1, gamma=auto, kernel=sigmoid;, score=0.892 total time= 2.2min\n",
      "[CV 5/5] END ...C=1, gamma=auto, kernel=sigmoid;, score=0.829 total time= 1.5min\n",
      "[CV 1/5] END .....C=1, gamma=scale, kernel=poly;, score=0.826 total time=  46.7s\n",
      "[CV 2/5] END .....C=1, gamma=scale, kernel=poly;, score=0.913 total time=  39.6s\n",
      "[CV 3/5] END .....C=1, gamma=scale, kernel=poly;, score=0.907 total time=  52.4s\n",
      "[CV 4/5] END .....C=1, gamma=scale, kernel=poly;, score=0.912 total time=  58.2s\n",
      "[CV 5/5] END .....C=1, gamma=scale, kernel=poly;, score=0.914 total time=  48.5s\n",
      "[CV 1/5] END ..C=1, gamma=scale, kernel=sigmoid;, score=0.811 total time= 1.1min\n",
      "[CV 2/5] END ..C=1, gamma=scale, kernel=sigmoid;, score=0.767 total time=  49.8s\n",
      "[CV 3/5] END ..C=1, gamma=scale, kernel=sigmoid;, score=0.827 total time=  48.4s\n",
      "[CV 4/5] END ..C=1, gamma=scale, kernel=sigmoid;, score=0.854 total time= 2.5min\n",
      "[CV 5/5] END ..C=1, gamma=scale, kernel=sigmoid;, score=0.833 total time=  56.5s\n",
      "[CV 1/5] END ....C=10, gamma=auto, kernel=poly;, score=0.873 total time=471.8min\n",
      "[CV 2/5] END ....C=10, gamma=auto, kernel=poly;, score=0.949 total time=374.8min\n",
      "[CV 3/5] END ....C=10, gamma=auto, kernel=poly;, score=0.916 total time=568.2min\n",
      "[CV 4/5] END ....C=10, gamma=auto, kernel=poly;, score=0.963 total time=488.3min\n",
      "[CV 5/5] END ....C=10, gamma=auto, kernel=poly;, score=0.924 total time=282.1min\n",
      "[CV 1/5] END ..C=10, gamma=auto, kernel=sigmoid;, score=0.759 total time= 2.7min\n",
      "[CV 2/5] END ..C=10, gamma=auto, kernel=sigmoid;, score=0.750 total time= 1.7min\n",
      "[CV 3/5] END ..C=10, gamma=auto, kernel=sigmoid;, score=0.832 total time= 1.3min\n",
      "[CV 4/5] END ..C=10, gamma=auto, kernel=sigmoid;, score=0.892 total time= 1.5min\n",
      "[CV 5/5] END ..C=10, gamma=auto, kernel=sigmoid;, score=0.831 total time= 1.1min\n",
      "[CV 1/5] END ....C=10, gamma=scale, kernel=poly;, score=0.853 total time=  27.4s\n",
      "[CV 2/5] END ....C=10, gamma=scale, kernel=poly;, score=0.916 total time=  31.8s\n",
      "[CV 3/5] END ....C=10, gamma=scale, kernel=poly;, score=0.911 total time=  35.8s\n",
      "[CV 4/5] END ....C=10, gamma=scale, kernel=poly;, score=0.931 total time=  38.0s\n",
      "[CV 5/5] END ....C=10, gamma=scale, kernel=poly;, score=0.920 total time=  29.3s\n",
      "[CV 1/5] END .C=10, gamma=scale, kernel=sigmoid;, score=0.811 total time=  45.0s\n",
      "[CV 2/5] END .C=10, gamma=scale, kernel=sigmoid;, score=0.765 total time=  33.2s\n",
      "[CV 3/5] END .C=10, gamma=scale, kernel=sigmoid;, score=0.835 total time=  32.6s\n",
      "[CV 4/5] END .C=10, gamma=scale, kernel=sigmoid;, score=0.852 total time=  45.8s\n",
      "[CV 5/5] END .C=10, gamma=scale, kernel=sigmoid;, score=0.832 total time=  37.6s\n"
     ]
    },
    {
     "data": {
      "text/plain": [
       "GridSearchCV(estimator=SVC(),\n",
       "             param_grid={'C': [0.1, 0.5, 1, 10], 'gamma': ['auto', 'scale'],\n",
       "                         'kernel': ['poly', 'sigmoid']},\n",
       "             verbose=3)"
      ]
     },
     "execution_count": 33,
     "metadata": {},
     "output_type": "execute_result"
    }
   ],
   "source": [
    "# Try grid search\n",
    "base_estimator = svm.SVC()\n",
    "param_grid = {'C':[0.1, 0.5, 1, 10],\n",
    "              'kernel':['poly', 'sigmoid'],\n",
    "              \"gamma\":['auto', 'scale']\n",
    "              }\n",
    "clf_search = sklearn.model_selection.GridSearchCV(base_estimator,param_grid,verbose=3)\n",
    "clf_search.fit(X,y)"
   ]
  },
  {
   "cell_type": "code",
   "execution_count": null,
   "id": "9ed5c950",
   "metadata": {},
   "outputs": [],
   "source": []
  }
 ],
 "metadata": {
  "kernelspec": {
   "display_name": "Python 3 (ipykernel)",
   "language": "python",
   "name": "python3"
  },
  "language_info": {
   "codemirror_mode": {
    "name": "ipython",
    "version": 3
   },
   "file_extension": ".py",
   "mimetype": "text/x-python",
   "name": "python",
   "nbconvert_exporter": "python",
   "pygments_lexer": "ipython3",
   "version": "3.9.7"
  }
 },
 "nbformat": 4,
 "nbformat_minor": 5
}
