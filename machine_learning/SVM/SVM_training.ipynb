{
 "cells": [
  {
   "cell_type": "markdown",
   "id": "24d5982e",
   "metadata": {},
   "source": [
    "Code written in colabboration with Martin Hansen Skjelvareid."
   ]
  },
  {
   "cell_type": "markdown",
   "id": "5b192eef",
   "metadata": {},
   "source": [
    "\n",
    "This is a script to train the best SVM model found in hyperparameter tuning. The SVM model trained here has the following parameters:\n",
    "    \n",
    "kernel = rbf\n",
    "\n",
    "C = 0.5\n",
    "\n",
    "gamma = scale\n",
    "    "
   ]
  },
  {
   "cell_type": "code",
   "execution_count": 1,
   "id": "e8ff07cc",
   "metadata": {},
   "outputs": [],
   "source": [
    "# Disable TensorFlow debugging info and warnings\n",
    "import os\n",
    "os.environ['TF_CPP_MIN_LOG_LEVEL'] = '2'  # 2: Info and warnings not displayed "
   ]
  },
  {
   "cell_type": "code",
   "execution_count": 2,
   "id": "af9d671e",
   "metadata": {},
   "outputs": [],
   "source": [
    "import numpy as np\n",
    "import matplotlib.pyplot as plt\n",
    "import tensorflow as tf\n",
    "import sklearn.ensemble"
   ]
  },
  {
   "cell_type": "code",
   "execution_count": 3,
   "id": "67408d90",
   "metadata": {},
   "outputs": [],
   "source": [
    "# Disable GPUs (in case of Tensorflow trying to use GPUs and raising errors)\n",
    "tf.config.set_visible_devices([], 'GPU')"
   ]
  },
  {
   "cell_type": "code",
   "execution_count": 4,
   "id": "7218f420",
   "metadata": {},
   "outputs": [],
   "source": [
    "# Paths\n",
    "tiles_dataset_path = '/Users/siljegrue/Downloads/tiles'"
   ]
  },
  {
   "cell_type": "code",
   "execution_count": 5,
   "id": "7e4c1189",
   "metadata": {},
   "outputs": [],
   "source": [
    "# Load dataset (or, rather, pointer to dataset)\n",
    "dataset = tf.data.experimental.load(tiles_dataset_path)"
   ]
  },
  {
   "cell_type": "code",
   "execution_count": 6,
   "id": "b6c12071",
   "metadata": {},
   "outputs": [
    {
     "name": "stdout",
     "output_type": "stream",
     "text": [
      "Dataset specification: <_LoadDataset element_spec=(TensorSpec(shape=(128, 128, 8), dtype=tf.float32, name=None), TensorSpec(shape=(128, 128), dtype=tf.int32, name=None))>\n",
      "Number of tiles: 459\n"
     ]
    }
   ],
   "source": [
    "# Show dataset details\n",
    "n_tiles = int(dataset.cardinality())\n",
    "print(f'Dataset specification: {dataset}')\n",
    "print(f'Number of tiles: {n_tiles}')"
   ]
  },
  {
   "cell_type": "code",
   "execution_count": 7,
   "id": "141c36d8",
   "metadata": {},
   "outputs": [],
   "source": [
    "# Shuffle dataset (tiles are originally ordered by image)\n",
    "dataset = dataset.shuffle(buffer_size=n_tiles)"
   ]
  },
  {
   "cell_type": "code",
   "execution_count": 8,
   "id": "efaf8cec",
   "metadata": {},
   "outputs": [],
   "source": [
    "def collect_dataset_spectra(dataset):\n",
    "    \"\"\" Collect annotated pixels in feature matrix X and label vector y \"\"\"\n",
    "    pixels_list = []\n",
    "    label_list = []\n",
    "    for image_tile,label_tile in dataset:\n",
    "        annotated_mask = (label_tile > 0) # Label 0 corresponds to background (not annotated)\n",
    "        pixels_list.append(image_tile[annotated_mask])\n",
    "        label_list.append(label_tile[annotated_mask])\n",
    "    X = np.concatenate(pixels_list)\n",
    "    y = np.concatenate(label_list)\n",
    "    return (X,y)"
   ]
  },
  {
   "cell_type": "code",
   "execution_count": 21,
   "id": "406a0710",
   "metadata": {},
   "outputs": [],
   "source": [
    "#extract a smaller part of the dataset for hyperparameter tuning of SVM\n",
    "small_dataset = dataset.take(150)"
   ]
  },
  {
   "cell_type": "code",
   "execution_count": 22,
   "id": "07f3724b",
   "metadata": {},
   "outputs": [],
   "source": [
    "# Collect X and Y and store in arrays:\n",
    "\n",
    "X , y = collect_dataset_spectra(dataset)"
   ]
  },
  {
   "cell_type": "code",
   "execution_count": 23,
   "id": "705ffeed",
   "metadata": {},
   "outputs": [],
   "source": [
    "# Create a SVM model\n",
    "from sklearn import svm\n",
    "SVM = svm.SVC(C = 0.5, kernel = 'rbf', gamma = 'scale')  "
   ]
  },
  {
   "cell_type": "code",
   "execution_count": 24,
   "id": "441e01b7",
   "metadata": {},
   "outputs": [],
   "source": [
    "# split into training and testing dataset:\n",
    "X_train,X_test,y_train,y_test = sklearn.model_selection.train_test_split(X,y,train_size=0.7)"
   ]
  },
  {
   "cell_type": "code",
   "execution_count": 25,
   "id": "bcbba606",
   "metadata": {},
   "outputs": [
    {
     "name": "stdout",
     "output_type": "stream",
     "text": [
      "It took 858.6365647355716 minutes to train the model\n"
     ]
    }
   ],
   "source": [
    "# Train classifier \n",
    "import time\n",
    "start = time.time()\n",
    "SVM.fit(X_train,y_train)\n",
    "end = time.time()\n",
    "print(\"It took\" ,(end-start)/60, \"minutes to train the model\")"
   ]
  },
  {
   "cell_type": "code",
   "execution_count": 26,
   "id": "bb2c6b6d",
   "metadata": {},
   "outputs": [
    {
     "name": "stdout",
     "output_type": "stream",
     "text": [
      "It took 554.6101480841637 minutes to apply the model on test dataset\n"
     ]
    }
   ],
   "source": [
    "# Apply it to test dataset\n",
    "start = time.time()\n",
    "y_test_pred = SVM.predict(X_test)\n",
    "end = time.time()\n",
    "print(\"It took\" ,(end-start)/60, \"minutes to apply the model on test dataset\")"
   ]
  },
  {
   "cell_type": "code",
   "execution_count": 27,
   "id": "52324aa3",
   "metadata": {},
   "outputs": [
    {
     "data": {
      "image/png": "[encoded data removed]",
      "text/plain": [
       "<Figure size 432x288 with 2 Axes>"
      ]
     },
     "metadata": {
      "needs_background": "light"
     },
     "output_type": "display_data"
    }
   ],
   "source": [
    "# Show confusion matrix\n",
    "display_labels = ['Sand', 'Seagrass', 'Seagrass w/turf','Rockweed','Other algae']\n",
    "confusion_matrix = sklearn.metrics.confusion_matrix(y_test,y_test_pred,normalize='true')\n",
    "disp = sklearn.metrics.ConfusionMatrixDisplay(confusion_matrix*100,display_labels=display_labels)\n",
    "disp.plot(xticks_rotation='vertical',cmap='gist_earth',values_format='.1f')\n",
    "plt.title('Confusion matrix (%)')\n",
    "plt.show()"
   ]
  },
  {
   "cell_type": "code",
   "execution_count": 30,
   "id": "e906e990",
   "metadata": {},
   "outputs": [],
   "source": [
    "# save the model to file\n",
    "import pickle\n",
    "filename = 'SVM.sav'\n",
    "pickle.dump(SVM, open(filename, 'wb'))"
   ]
  },
  {
   "cell_type": "code",
   "execution_count": 31,
   "id": "f27a4782",
   "metadata": {},
   "outputs": [],
   "source": [
    "# load the model from disk\n",
    "loaded_model = pickle.load(open(filename, 'rb'))"
   ]
  },
  {
   "cell_type": "code",
   "execution_count": 32,
   "id": "82fd1917",
   "metadata": {},
   "outputs": [
    {
     "data": {
      "text/plain": [
       "SVC(C=0.5)"
      ]
     },
     "execution_count": 32,
     "metadata": {},
     "output_type": "execute_result"
    }
   ],
   "source": [
    "loaded_model"
   ]
  }
 ],
 "metadata": {
  "kernelspec": {
   "display_name": "Python 3 (ipykernel)",
   "language": "python",
   "name": "python3"
  },
  "language_info": {
   "codemirror_mode": {
    "name": "ipython",
    "version": 3
   },
   "file_extension": ".py",
   "mimetype": "text/x-python",
   "name": "python",
   "nbconvert_exporter": "python",
   "pygments_lexer": "ipython3",
   "version": "3.9.7"
  }
 },
 "nbformat": 4,
 "nbformat_minor": 5
}
