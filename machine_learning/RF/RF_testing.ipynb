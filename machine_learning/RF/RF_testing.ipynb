{
 "cells": [
  {
   "cell_type": "markdown",
   "id": "37ba36a7",
   "metadata": {},
   "source": [
    "Code written in colabboration with Martin Hansen Skjelvareid."
   ]
  },
  {
   "cell_type": "markdown",
   "id": "508e36c7",
   "metadata": {},
   "source": [
    "This is a script to determine the best RF model for the given dataset. Different values for the hyperparameters min_samples_leaf, n_estimators, max_samples are tried and evaluated using GridSearchCV from sklearn. \n"
   ]
  },
  {
   "cell_type": "code",
   "execution_count": 7,
   "id": "c2543ce4",
   "metadata": {},
   "outputs": [],
   "source": [
    "# Disable TensorFlow debugging info and warnings\n",
    "import os\n",
    "os.environ['TF_CPP_MIN_LOG_LEVEL'] = '2'  # 2: Info and warnings not displayed "
   ]
  },
  {
   "cell_type": "code",
   "execution_count": 1,
   "id": "53e80fa4",
   "metadata": {},
   "outputs": [],
   "source": [
    "import numpy as np\n",
    "import matplotlib.pyplot as plt\n",
    "import tensorflow as tf\n",
    "import sklearn.ensemble\n"
   ]
  },
  {
   "cell_type": "code",
   "execution_count": 2,
   "id": "6327a27a",
   "metadata": {},
   "outputs": [],
   "source": [
    "# Disable GPUs (in case of Tensorflow trying to use GPUs and raising errors)\n",
    "tf.config.set_visible_devices([], 'GPU')"
   ]
  },
  {
   "cell_type": "code",
   "execution_count": 3,
   "id": "ef85a37d",
   "metadata": {},
   "outputs": [],
   "source": [
    "# Paths\n",
    "tiles_dataset_path = '/Users/siljegrue/Downloads/tiles'"
   ]
  },
  {
   "cell_type": "code",
   "execution_count": 8,
   "id": "285e1bc4",
   "metadata": {},
   "outputs": [],
   "source": [
    "# Load dataset (or, rather, pointer to dataset)\n",
    "dataset = tf.data.experimental.load(tiles_dataset_path)"
   ]
  },
  {
   "cell_type": "code",
   "execution_count": 5,
   "id": "3b21f5f3",
   "metadata": {},
   "outputs": [
    {
     "name": "stdout",
     "output_type": "stream",
     "text": [
      "Dataset specification: <_LoadDataset element_spec=(TensorSpec(shape=(128, 128, 8), dtype=tf.float32, name=None), TensorSpec(shape=(128, 128), dtype=tf.int32, name=None))>\n",
      "Number of tiles: 459\n"
     ]
    }
   ],
   "source": [
    "# Show dataset details\n",
    "n_tiles = int(dataset.cardinality())\n",
    "print(f'Dataset specification: {dataset}')\n",
    "print(f'Number of tiles: {n_tiles}')"
   ]
  },
  {
   "cell_type": "code",
   "execution_count": 9,
   "id": "c9d13509",
   "metadata": {},
   "outputs": [],
   "source": [
    "# Shuffle dataset (tiles are originally ordered by image)\n",
    "dataset = dataset.shuffle(buffer_size=n_tiles)"
   ]
  },
  {
   "cell_type": "code",
   "execution_count": 10,
   "id": "f4e455a0",
   "metadata": {},
   "outputs": [],
   "source": [
    "def collect_dataset_spectra(dataset):\n",
    "    \"\"\" Collect annotated pixels in feature matrix X and label vector y \"\"\"\n",
    "    pixels_list = []\n",
    "    label_list = []\n",
    "    for image_tile,label_tile in dataset:\n",
    "        annotated_mask = (label_tile > 0) # Label 0 corresponds to background (not annotated)\n",
    "        pixels_list.append(image_tile[annotated_mask])\n",
    "        label_list.append(label_tile[annotated_mask])\n",
    "    X = np.concatenate(pixels_list)\n",
    "    y = np.concatenate(label_list)\n",
    "    return (X,y)\n"
   ]
  },
  {
   "cell_type": "code",
   "execution_count": 11,
   "id": "e034d622",
   "metadata": {},
   "outputs": [],
   "source": [
    "# Collect X and Y and store in arrays:\n",
    "\n",
    "X , y = collect_dataset_spectra(dataset)"
   ]
  },
  {
   "cell_type": "markdown",
   "id": "b3bd9dc5",
   "metadata": {},
   "source": [
    "\n",
    "Random Forest classification\n"
   ]
  },
  {
   "cell_type": "code",
   "execution_count": 12,
   "id": "d2b63af6",
   "metadata": {},
   "outputs": [],
   "source": [
    "# Create a random forest model\n",
    "rfc = sklearn.ensemble.RandomForestClassifier(\n",
    "    n_estimators=30,            # Ensemble of 30 decision trees\n",
    "    min_samples_leaf=10,        # Stop splitting data when number of samples < 10 (faster)\n",
    "    max_samples=0.1)            # Use only 10% of data for each estimator (faster)\n"
   ]
  },
  {
   "cell_type": "markdown",
   "id": "414ad375",
   "metadata": {},
   "source": [
    "Try GridSearchCV"
   ]
  },
  {
   "cell_type": "code",
   "execution_count": 16,
   "id": "679078a5",
   "metadata": {},
   "outputs": [
    {
     "name": "stdout",
     "output_type": "stream",
     "text": [
      "Fitting 5 folds for each of 9 candidates, totalling 45 fits\n",
      "[CV 1/5] END max_samples=0.02, min_samples_leaf=0.01, n_estimators=5;, score=0.404 total time=   1.5s\n",
      "[CV 2/5] END max_samples=0.02, min_samples_leaf=0.01, n_estimators=5;, score=0.404 total time=   1.4s\n",
      "[CV 3/5] END max_samples=0.02, min_samples_leaf=0.01, n_estimators=5;, score=0.404 total time=   1.4s\n",
      "[CV 4/5] END max_samples=0.02, min_samples_leaf=0.01, n_estimators=5;, score=0.404 total time=   1.4s\n",
      "[CV 5/5] END max_samples=0.02, min_samples_leaf=0.01, n_estimators=5;, score=0.404 total time=   1.4s\n",
      "[CV 1/5] END max_samples=0.02, min_samples_leaf=0.01, n_estimators=10;, score=0.404 total time=   2.5s\n",
      "[CV 2/5] END max_samples=0.02, min_samples_leaf=0.01, n_estimators=10;, score=0.404 total time=   2.5s\n",
      "[CV 3/5] END max_samples=0.02, min_samples_leaf=0.01, n_estimators=10;, score=0.404 total time=   2.6s\n",
      "[CV 4/5] END max_samples=0.02, min_samples_leaf=0.01, n_estimators=10;, score=0.404 total time=   2.5s\n",
      "[CV 5/5] END max_samples=0.02, min_samples_leaf=0.01, n_estimators=10;, score=0.404 total time=   2.6s\n",
      "[CV 1/5] END max_samples=0.02, min_samples_leaf=0.01, n_estimators=20;, score=0.404 total time=   4.9s\n",
      "[CV 2/5] END max_samples=0.02, min_samples_leaf=0.01, n_estimators=20;, score=0.404 total time=   4.9s\n",
      "[CV 3/5] END max_samples=0.02, min_samples_leaf=0.01, n_estimators=20;, score=0.404 total time=   5.0s\n",
      "[CV 4/5] END max_samples=0.02, min_samples_leaf=0.01, n_estimators=20;, score=0.404 total time=   4.9s\n",
      "[CV 5/5] END max_samples=0.02, min_samples_leaf=0.01, n_estimators=20;, score=0.404 total time=   4.9s\n",
      "[CV 1/5] END max_samples=0.02, min_samples_leaf=0.001, n_estimators=5;, score=0.745 total time=   1.8s\n",
      "[CV 2/5] END max_samples=0.02, min_samples_leaf=0.001, n_estimators=5;, score=0.773 total time=   1.8s\n",
      "[CV 3/5] END max_samples=0.02, min_samples_leaf=0.001, n_estimators=5;, score=0.768 total time=   1.8s\n",
      "[CV 4/5] END max_samples=0.02, min_samples_leaf=0.001, n_estimators=5;, score=0.761 total time=   1.8s\n",
      "[CV 5/5] END max_samples=0.02, min_samples_leaf=0.001, n_estimators=5;, score=0.766 total time=   1.8s\n",
      "[CV 1/5] END max_samples=0.02, min_samples_leaf=0.001, n_estimators=10;, score=0.776 total time=   3.4s\n",
      "[CV 2/5] END max_samples=0.02, min_samples_leaf=0.001, n_estimators=10;, score=0.762 total time=   3.2s\n",
      "[CV 3/5] END max_samples=0.02, min_samples_leaf=0.001, n_estimators=10;, score=0.785 total time=   3.4s\n",
      "[CV 4/5] END max_samples=0.02, min_samples_leaf=0.001, n_estimators=10;, score=0.792 total time=   3.5s\n",
      "[CV 5/5] END max_samples=0.02, min_samples_leaf=0.001, n_estimators=10;, score=0.767 total time=   3.3s\n",
      "[CV 1/5] END max_samples=0.02, min_samples_leaf=0.001, n_estimators=20;, score=0.786 total time=   6.4s\n",
      "[CV 2/5] END max_samples=0.02, min_samples_leaf=0.001, n_estimators=20;, score=0.777 total time=   6.3s\n",
      "[CV 3/5] END max_samples=0.02, min_samples_leaf=0.001, n_estimators=20;, score=0.788 total time=   6.5s\n",
      "[CV 4/5] END max_samples=0.02, min_samples_leaf=0.001, n_estimators=20;, score=0.788 total time=   6.4s\n",
      "[CV 5/5] END max_samples=0.02, min_samples_leaf=0.001, n_estimators=20;, score=0.763 total time=   6.4s\n",
      "[CV 1/5] END max_samples=0.02, min_samples_leaf=0.0001, n_estimators=5;, score=0.836 total time=   2.0s\n",
      "[CV 2/5] END max_samples=0.02, min_samples_leaf=0.0001, n_estimators=5;, score=0.850 total time=   2.0s\n",
      "[CV 3/5] END max_samples=0.02, min_samples_leaf=0.0001, n_estimators=5;, score=0.842 total time=   2.1s\n",
      "[CV 4/5] END max_samples=0.02, min_samples_leaf=0.0001, n_estimators=5;, score=0.865 total time=   2.0s\n",
      "[CV 5/5] END max_samples=0.02, min_samples_leaf=0.0001, n_estimators=5;, score=0.837 total time=   2.1s\n",
      "[CV 1/5] END max_samples=0.02, min_samples_leaf=0.0001, n_estimators=10;, score=0.851 total time=   3.9s\n",
      "[CV 2/5] END max_samples=0.02, min_samples_leaf=0.0001, n_estimators=10;, score=0.853 total time=   3.8s\n",
      "[CV 3/5] END max_samples=0.02, min_samples_leaf=0.0001, n_estimators=10;, score=0.851 total time=   3.9s\n",
      "[CV 4/5] END max_samples=0.02, min_samples_leaf=0.0001, n_estimators=10;, score=0.870 total time=   3.9s\n",
      "[CV 5/5] END max_samples=0.02, min_samples_leaf=0.0001, n_estimators=10;, score=0.848 total time=   4.0s\n",
      "[CV 1/5] END max_samples=0.02, min_samples_leaf=0.0001, n_estimators=20;, score=0.853 total time=   7.5s\n",
      "[CV 2/5] END max_samples=0.02, min_samples_leaf=0.0001, n_estimators=20;, score=0.859 total time=   7.5s\n",
      "[CV 3/5] END max_samples=0.02, min_samples_leaf=0.0001, n_estimators=20;, score=0.852 total time=   7.6s\n",
      "[CV 4/5] END max_samples=0.02, min_samples_leaf=0.0001, n_estimators=20;, score=0.873 total time=   7.5s\n",
      "[CV 5/5] END max_samples=0.02, min_samples_leaf=0.0001, n_estimators=20;, score=0.851 total time=   7.5s\n"
     ]
    },
    {
     "data": {
      "text/plain": [
       "GridSearchCV(estimator=RandomForestClassifier(),\n",
       "             param_grid={'max_samples': [0.02],\n",
       "                         'min_samples_leaf': [0.01, 0.001, 0.0001],\n",
       "                         'n_estimators': [5, 10, 20]},\n",
       "             verbose=3)"
      ]
     },
     "execution_count": 16,
     "metadata": {},
     "output_type": "execute_result"
    }
   ],
   "source": [
    "# Try grid search\n",
    "base_estimator = sklearn.ensemble.RandomForestClassifier()\n",
    "param_grid = {'n_estimators':[5,10,20],\n",
    "              'min_samples_leaf':[0.01,0.001,0.0001],\n",
    "              'max_samples':[0.02]}\n",
    "clf_search = sklearn.model_selection.GridSearchCV(base_estimator,param_grid,verbose=3)\n",
    "clf_search.fit(X,y)"
   ]
  },
  {
   "cell_type": "markdown",
   "id": "66d01fcd",
   "metadata": {},
   "source": [
    "Based on this result, the model seems to be most affected by the min_samples_leaf parameter (minimum # of samples\n",
    "per leaf, deciding the size of the individual trees), reaching the highest score with min_samples_leaf = 0.0001. Can the model perform even better with a smaller number of min_samples_leaf?  \n",
    "There is small to none variance in the score when varying the n_estimators. "
   ]
  },
  {
   "cell_type": "markdown",
   "id": "72471528",
   "metadata": {},
   "source": [
    "Try varying the number of min_samples_leaf while keeping the other varialbes constant:"
   ]
  },
  {
   "cell_type": "code",
   "execution_count": 20,
   "id": "7f527343",
   "metadata": {},
   "outputs": [
    {
     "name": "stdout",
     "output_type": "stream",
     "text": [
      "Fitting 5 folds for each of 4 candidates, totalling 20 fits\n",
      "[CV 1/5] END max_samples=0.02, min_samples_leaf=0.0001, n_estimators=10;, score=0.848 total time=   4.1s\n",
      "[CV 2/5] END max_samples=0.02, min_samples_leaf=0.0001, n_estimators=10;, score=0.854 total time=   4.1s\n",
      "[CV 3/5] END max_samples=0.02, min_samples_leaf=0.0001, n_estimators=10;, score=0.853 total time=   3.9s\n",
      "[CV 4/5] END max_samples=0.02, min_samples_leaf=0.0001, n_estimators=10;, score=0.874 total time=   4.0s\n",
      "[CV 5/5] END max_samples=0.02, min_samples_leaf=0.0001, n_estimators=10;, score=0.847 total time=   4.0s\n",
      "[CV 1/5] END max_samples=0.02, min_samples_leaf=1e-05, n_estimators=10;, score=0.879 total time=   4.3s\n",
      "[CV 2/5] END max_samples=0.02, min_samples_leaf=1e-05, n_estimators=10;, score=0.888 total time=   4.5s\n",
      "[CV 3/5] END max_samples=0.02, min_samples_leaf=1e-05, n_estimators=10;, score=0.879 total time=   4.5s\n",
      "[CV 4/5] END max_samples=0.02, min_samples_leaf=1e-05, n_estimators=10;, score=0.904 total time=   4.5s\n",
      "[CV 5/5] END max_samples=0.02, min_samples_leaf=1e-05, n_estimators=10;, score=0.879 total time=   4.5s\n",
      "[CV 1/5] END max_samples=0.02, min_samples_leaf=1e-06, n_estimators=10;, score=0.890 total time=   4.8s\n",
      "[CV 2/5] END max_samples=0.02, min_samples_leaf=1e-06, n_estimators=10;, score=0.897 total time=   5.0s\n",
      "[CV 3/5] END max_samples=0.02, min_samples_leaf=1e-06, n_estimators=10;, score=0.890 total time=   4.8s\n",
      "[CV 4/5] END max_samples=0.02, min_samples_leaf=1e-06, n_estimators=10;, score=0.913 total time=   4.8s\n",
      "[CV 5/5] END max_samples=0.02, min_samples_leaf=1e-06, n_estimators=10;, score=0.893 total time=   4.9s\n",
      "[CV 1/5] END max_samples=0.02, min_samples_leaf=1e-07, n_estimators=10;, score=0.887 total time=   4.8s\n",
      "[CV 2/5] END max_samples=0.02, min_samples_leaf=1e-07, n_estimators=10;, score=0.892 total time=   5.1s\n",
      "[CV 3/5] END max_samples=0.02, min_samples_leaf=1e-07, n_estimators=10;, score=0.890 total time=   5.2s\n",
      "[CV 4/5] END max_samples=0.02, min_samples_leaf=1e-07, n_estimators=10;, score=0.910 total time=   4.9s\n",
      "[CV 5/5] END max_samples=0.02, min_samples_leaf=1e-07, n_estimators=10;, score=0.890 total time=   5.0s\n"
     ]
    },
    {
     "data": {
      "text/plain": [
       "GridSearchCV(estimator=RandomForestClassifier(),\n",
       "             param_grid={'max_samples': [0.02],\n",
       "                         'min_samples_leaf': [0.0001, 1e-05, 1e-06, 1e-07],\n",
       "                         'n_estimators': [10]},\n",
       "             verbose=3)"
      ]
     },
     "execution_count": 20,
     "metadata": {},
     "output_type": "execute_result"
    }
   ],
   "source": [
    "# Try grid search\n",
    "base_estimator = sklearn.ensemble.RandomForestClassifier()\n",
    "param_grid = {'n_estimators':[10],\n",
    "              'min_samples_leaf':[0.0001,0.00001,0.000001, 0.0000001],\n",
    "              'max_samples':[0.02]}\n",
    "clf_search = sklearn.model_selection.GridSearchCV(base_estimator,param_grid,verbose=3)\n",
    "clf_search.fit(X,y)"
   ]
  },
  {
   "cell_type": "markdown",
   "id": "c2d488a1",
   "metadata": {},
   "source": [
    "The score increases with a decreasing value for min_samples_leaf, again. Also worth noting that the time for each run increases with a decreasing value for min_samples_leaf. There is not a nitocable improvement between min_samples_leaf 0.000001 and 0.0000001, so we settle with 0.000001. Next, we try to increase the number og min_samples_leaf, just to see if that could be a way to go"
   ]
  },
  {
   "cell_type": "code",
   "execution_count": 21,
   "id": "d4d10251",
   "metadata": {},
   "outputs": [
    {
     "name": "stdout",
     "output_type": "stream",
     "text": [
      "Fitting 5 folds for each of 5 candidates, totalling 25 fits\n",
      "[CV 1/5] END max_samples=0.02, min_samples_leaf=0.1, n_estimators=10;, score=0.404 total time=   3.5s\n",
      "[CV 2/5] END max_samples=0.02, min_samples_leaf=0.1, n_estimators=10;, score=0.404 total time=   2.5s\n",
      "[CV 3/5] END max_samples=0.02, min_samples_leaf=0.1, n_estimators=10;, score=0.404 total time=   2.5s\n",
      "[CV 4/5] END max_samples=0.02, min_samples_leaf=0.1, n_estimators=10;, score=0.404 total time=   2.5s\n",
      "[CV 5/5] END max_samples=0.02, min_samples_leaf=0.1, n_estimators=10;, score=0.404 total time=   2.6s\n",
      "[CV 1/5] END max_samples=0.02, min_samples_leaf=1, n_estimators=10;, score=0.888 total time=   5.3s\n",
      "[CV 2/5] END max_samples=0.02, min_samples_leaf=1, n_estimators=10;, score=0.891 total time=   5.1s\n",
      "[CV 3/5] END max_samples=0.02, min_samples_leaf=1, n_estimators=10;, score=0.888 total time=   5.0s\n",
      "[CV 4/5] END max_samples=0.02, min_samples_leaf=1, n_estimators=10;, score=0.910 total time=   4.8s\n",
      "[CV 5/5] END max_samples=0.02, min_samples_leaf=1, n_estimators=10;, score=0.890 total time=   5.2s\n",
      "[CV 1/5] END max_samples=0.02, min_samples_leaf=5, n_estimators=10;, score=0.890 total time=   4.6s\n",
      "[CV 2/5] END max_samples=0.02, min_samples_leaf=5, n_estimators=10;, score=0.898 total time=   4.6s\n",
      "[CV 3/5] END max_samples=0.02, min_samples_leaf=5, n_estimators=10;, score=0.890 total time=   4.6s\n",
      "[CV 4/5] END max_samples=0.02, min_samples_leaf=5, n_estimators=10;, score=0.913 total time=   4.6s\n",
      "[CV 5/5] END max_samples=0.02, min_samples_leaf=5, n_estimators=10;, score=0.890 total time=   4.9s\n",
      "[CV 1/5] END max_samples=0.02, min_samples_leaf=10, n_estimators=10;, score=0.886 total time=   4.4s\n",
      "[CV 2/5] END max_samples=0.02, min_samples_leaf=10, n_estimators=10;, score=0.896 total time=   4.3s\n",
      "[CV 3/5] END max_samples=0.02, min_samples_leaf=10, n_estimators=10;, score=0.887 total time=   4.5s\n",
      "[CV 4/5] END max_samples=0.02, min_samples_leaf=10, n_estimators=10;, score=0.910 total time=   4.4s\n",
      "[CV 5/5] END max_samples=0.02, min_samples_leaf=10, n_estimators=10;, score=0.888 total time=   4.8s\n",
      "[CV 1/5] END max_samples=0.02, min_samples_leaf=15, n_estimators=10;, score=0.881 total time=   4.5s\n",
      "[CV 2/5] END max_samples=0.02, min_samples_leaf=15, n_estimators=10;, score=0.892 total time=   4.5s\n",
      "[CV 3/5] END max_samples=0.02, min_samples_leaf=15, n_estimators=10;, score=0.883 total time=   4.6s\n",
      "[CV 4/5] END max_samples=0.02, min_samples_leaf=15, n_estimators=10;, score=0.908 total time=   4.7s\n",
      "[CV 5/5] END max_samples=0.02, min_samples_leaf=15, n_estimators=10;, score=0.885 total time=   4.6s\n"
     ]
    },
    {
     "data": {
      "text/plain": [
       "GridSearchCV(estimator=RandomForestClassifier(),\n",
       "             param_grid={'max_samples': [0.02],\n",
       "                         'min_samples_leaf': [0.1, 1, 5, 10, 15],\n",
       "                         'n_estimators': [10]},\n",
       "             verbose=3)"
      ]
     },
     "execution_count": 21,
     "metadata": {},
     "output_type": "execute_result"
    }
   ],
   "source": [
    "# Try grid search\n",
    "base_estimator = sklearn.ensemble.RandomForestClassifier()\n",
    "param_grid = {'n_estimators':[10],\n",
    "              'min_samples_leaf':[0.1,1, 5, 10, 15],\n",
    "              'max_samples':[0.02]}\n",
    "clf_search = sklearn.model_selection.GridSearchCV(base_estimator,param_grid,verbose=3)\n",
    "clf_search.fit(X,y)"
   ]
  },
  {
   "cell_type": "markdown",
   "id": "fc083073",
   "metadata": {},
   "source": [
    "Looks like increasing the number og min_samples_leaf could also work. Trying to increase it even more, while also varying the number og max_samples"
   ]
  },
  {
   "cell_type": "code",
   "execution_count": 40,
   "id": "92402872",
   "metadata": {},
   "outputs": [
    {
     "name": "stdout",
     "output_type": "stream",
     "text": [
      "Fitting 3 folds for each of 15 candidates, totalling 45 fits\n",
      "[CV 1/3] END max_samples=0.02, min_samples_leaf=15, n_estimators=10;, score=0.888 total time=   4.4s\n",
      "[CV 2/3] END max_samples=0.02, min_samples_leaf=15, n_estimators=10;, score=0.888 total time=   4.2s\n",
      "[CV 3/3] END max_samples=0.02, min_samples_leaf=15, n_estimators=10;, score=0.894 total time=   4.5s\n",
      "[CV 1/3] END max_samples=0.02, min_samples_leaf=20, n_estimators=10;, score=0.883 total time=   4.1s\n",
      "[CV 2/3] END max_samples=0.02, min_samples_leaf=20, n_estimators=10;, score=0.885 total time=   4.3s\n",
      "[CV 3/3] END max_samples=0.02, min_samples_leaf=20, n_estimators=10;, score=0.892 total time=   4.1s\n",
      "[CV 1/3] END max_samples=0.02, min_samples_leaf=25, n_estimators=10;, score=0.880 total time=   4.1s\n",
      "[CV 2/3] END max_samples=0.02, min_samples_leaf=25, n_estimators=10;, score=0.884 total time=   4.2s\n",
      "[CV 3/3] END max_samples=0.02, min_samples_leaf=25, n_estimators=10;, score=0.889 total time=   4.2s\n",
      "[CV 1/3] END max_samples=0.02, min_samples_leaf=30, n_estimators=10;, score=0.880 total time=   4.2s\n",
      "[CV 2/3] END max_samples=0.02, min_samples_leaf=30, n_estimators=10;, score=0.881 total time=   4.2s\n",
      "[CV 3/3] END max_samples=0.02, min_samples_leaf=30, n_estimators=10;, score=0.888 total time=   3.9s\n",
      "[CV 1/3] END max_samples=0.02, min_samples_leaf=35, n_estimators=10;, score=0.877 total time=   3.9s\n",
      "[CV 2/3] END max_samples=0.02, min_samples_leaf=35, n_estimators=10;, score=0.879 total time=   3.9s\n",
      "[CV 3/3] END max_samples=0.02, min_samples_leaf=35, n_estimators=10;, score=0.884 total time=   3.8s\n",
      "[CV 1/3] END max_samples=0.06, min_samples_leaf=15, n_estimators=10;, score=0.895 total time=   8.5s\n",
      "[CV 2/3] END max_samples=0.06, min_samples_leaf=15, n_estimators=10;, score=0.895 total time=   8.2s\n",
      "[CV 3/3] END max_samples=0.06, min_samples_leaf=15, n_estimators=10;, score=0.904 total time=   8.3s\n",
      "[CV 1/3] END max_samples=0.06, min_samples_leaf=20, n_estimators=10;, score=0.893 total time=   8.3s\n",
      "[CV 2/3] END max_samples=0.06, min_samples_leaf=20, n_estimators=10;, score=0.892 total time=   7.8s\n",
      "[CV 3/3] END max_samples=0.06, min_samples_leaf=20, n_estimators=10;, score=0.901 total time=   8.5s\n",
      "[CV 1/3] END max_samples=0.06, min_samples_leaf=25, n_estimators=10;, score=0.892 total time=   7.9s\n",
      "[CV 2/3] END max_samples=0.06, min_samples_leaf=25, n_estimators=10;, score=0.892 total time=   8.1s\n",
      "[CV 3/3] END max_samples=0.06, min_samples_leaf=25, n_estimators=10;, score=0.900 total time=   8.3s\n",
      "[CV 1/3] END max_samples=0.06, min_samples_leaf=30, n_estimators=10;, score=0.890 total time=   7.8s\n",
      "[CV 2/3] END max_samples=0.06, min_samples_leaf=30, n_estimators=10;, score=0.891 total time=   7.8s\n",
      "[CV 3/3] END max_samples=0.06, min_samples_leaf=30, n_estimators=10;, score=0.897 total time=   7.9s\n",
      "[CV 1/3] END max_samples=0.06, min_samples_leaf=35, n_estimators=10;, score=0.889 total time=   7.7s\n",
      "[CV 2/3] END max_samples=0.06, min_samples_leaf=35, n_estimators=10;, score=0.888 total time=   7.7s\n",
      "[CV 3/3] END max_samples=0.06, min_samples_leaf=35, n_estimators=10;, score=0.897 total time=   7.7s\n",
      "[CV 1/3] END max_samples=0.1, min_samples_leaf=15, n_estimators=10;, score=0.900 total time=  13.3s\n",
      "[CV 2/3] END max_samples=0.1, min_samples_leaf=15, n_estimators=10;, score=0.896 total time=  13.1s\n",
      "[CV 3/3] END max_samples=0.1, min_samples_leaf=15, n_estimators=10;, score=0.907 total time=  12.6s\n",
      "[CV 1/3] END max_samples=0.1, min_samples_leaf=20, n_estimators=10;, score=0.896 total time=  12.2s\n",
      "[CV 2/3] END max_samples=0.1, min_samples_leaf=20, n_estimators=10;, score=0.895 total time=  12.7s\n",
      "[CV 3/3] END max_samples=0.1, min_samples_leaf=20, n_estimators=10;, score=0.905 total time=  12.8s\n",
      "[CV 1/3] END max_samples=0.1, min_samples_leaf=25, n_estimators=10;, score=0.895 total time=  12.3s\n",
      "[CV 2/3] END max_samples=0.1, min_samples_leaf=25, n_estimators=10;, score=0.895 total time=  12.6s\n",
      "[CV 3/3] END max_samples=0.1, min_samples_leaf=25, n_estimators=10;, score=0.903 total time=  12.4s\n",
      "[CV 1/3] END max_samples=0.1, min_samples_leaf=30, n_estimators=10;, score=0.894 total time=  12.8s\n",
      "[CV 2/3] END max_samples=0.1, min_samples_leaf=30, n_estimators=10;, score=0.894 total time=  12.6s\n",
      "[CV 3/3] END max_samples=0.1, min_samples_leaf=30, n_estimators=10;, score=0.902 total time=  12.1s\n",
      "[CV 1/3] END max_samples=0.1, min_samples_leaf=35, n_estimators=10;, score=0.893 total time=  12.0s\n",
      "[CV 2/3] END max_samples=0.1, min_samples_leaf=35, n_estimators=10;, score=0.891 total time=  12.2s\n",
      "[CV 3/3] END max_samples=0.1, min_samples_leaf=35, n_estimators=10;, score=0.901 total time=  12.4s\n"
     ]
    },
    {
     "data": {
      "text/plain": [
       "GridSearchCV(cv=3, estimator=RandomForestClassifier(),\n",
       "             param_grid={'max_samples': [0.02, 0.06, 0.1],\n",
       "                         'min_samples_leaf': [15, 20, 25, 30, 35],\n",
       "                         'n_estimators': [10]},\n",
       "             verbose=3)"
      ]
     },
     "execution_count": 40,
     "metadata": {},
     "output_type": "execute_result"
    }
   ],
   "source": [
    "# Try grid search\n",
    "base_estimator = sklearn.ensemble.RandomForestClassifier()\n",
    "param_grid = {'n_estimators':[10],\n",
    "              'min_samples_leaf':[15, 20, 25, 30, 35],\n",
    "              'max_samples':[0.02, 0.06, 0.1]}\n",
    "clf_search = sklearn.model_selection.GridSearchCV(base_estimator,param_grid,verbose=3, cv = 3)\n",
    "clf_search.fit(X,y)"
   ]
  },
  {
   "cell_type": "markdown",
   "id": "b48bcc91",
   "metadata": {},
   "source": [
    "Increasing the number of max_samples did not have a significant impact on the score. Lets try to increase it even more"
   ]
  },
  {
   "cell_type": "code",
   "execution_count": 29,
   "id": "f9a0b59c",
   "metadata": {},
   "outputs": [
    {
     "name": "stdout",
     "output_type": "stream",
     "text": [
      "Fitting 3 folds for each of 9 candidates, totalling 27 fits\n",
      "[CV 1/3] END max_samples=0.3, min_samples_leaf=15, n_estimators=10;, score=0.905 total time=  35.4s\n",
      "[CV 2/3] END max_samples=0.3, min_samples_leaf=15, n_estimators=10;, score=0.902 total time=  35.8s\n",
      "[CV 3/3] END max_samples=0.3, min_samples_leaf=15, n_estimators=10;, score=0.912 total time=  35.9s\n",
      "[CV 1/3] END max_samples=0.3, min_samples_leaf=20, n_estimators=10;, score=0.903 total time=  34.6s\n",
      "[CV 2/3] END max_samples=0.3, min_samples_leaf=20, n_estimators=10;, score=0.902 total time=  30.8s\n",
      "[CV 3/3] END max_samples=0.3, min_samples_leaf=20, n_estimators=10;, score=0.911 total time=  33.3s\n",
      "[CV 1/3] END max_samples=0.3, min_samples_leaf=25, n_estimators=10;, score=0.903 total time=  34.1s\n",
      "[CV 2/3] END max_samples=0.3, min_samples_leaf=25, n_estimators=10;, score=0.901 total time=  35.1s\n",
      "[CV 3/3] END max_samples=0.3, min_samples_leaf=25, n_estimators=10;, score=0.909 total time=  33.7s\n",
      "[CV 1/3] END max_samples=0.6, min_samples_leaf=15, n_estimators=10;, score=0.908 total time= 1.1min\n",
      "[CV 2/3] END max_samples=0.6, min_samples_leaf=15, n_estimators=10;, score=0.905 total time= 1.0min\n",
      "[CV 3/3] END max_samples=0.6, min_samples_leaf=15, n_estimators=10;, score=0.915 total time= 1.1min\n",
      "[CV 1/3] END max_samples=0.6, min_samples_leaf=20, n_estimators=10;, score=0.906 total time= 1.0min\n",
      "[CV 2/3] END max_samples=0.6, min_samples_leaf=20, n_estimators=10;, score=0.904 total time= 1.1min\n",
      "[CV 3/3] END max_samples=0.6, min_samples_leaf=20, n_estimators=10;, score=0.914 total time= 1.1min\n",
      "[CV 1/3] END max_samples=0.6, min_samples_leaf=25, n_estimators=10;, score=0.905 total time= 1.0min\n",
      "[CV 2/3] END max_samples=0.6, min_samples_leaf=25, n_estimators=10;, score=0.904 total time= 1.1min\n",
      "[CV 3/3] END max_samples=0.6, min_samples_leaf=25, n_estimators=10;, score=0.913 total time= 1.0min\n",
      "[CV 1/3] END max_samples=1.0, min_samples_leaf=15, n_estimators=10;, score=0.909 total time= 1.6min\n",
      "[CV 2/3] END max_samples=1.0, min_samples_leaf=15, n_estimators=10;, score=0.907 total time= 1.5min\n",
      "[CV 3/3] END max_samples=1.0, min_samples_leaf=15, n_estimators=10;, score=0.916 total time= 1.5min\n",
      "[CV 1/3] END max_samples=1.0, min_samples_leaf=20, n_estimators=10;, score=0.908 total time= 1.5min\n",
      "[CV 2/3] END max_samples=1.0, min_samples_leaf=20, n_estimators=10;, score=0.906 total time= 1.6min\n",
      "[CV 3/3] END max_samples=1.0, min_samples_leaf=20, n_estimators=10;, score=0.915 total time= 1.5min\n",
      "[CV 1/3] END max_samples=1.0, min_samples_leaf=25, n_estimators=10;, score=0.907 total time= 1.5min\n",
      "[CV 2/3] END max_samples=1.0, min_samples_leaf=25, n_estimators=10;, score=0.905 total time= 1.5min\n",
      "[CV 3/3] END max_samples=1.0, min_samples_leaf=25, n_estimators=10;, score=0.914 total time= 1.5min\n"
     ]
    },
    {
     "data": {
      "text/plain": [
       "GridSearchCV(cv=3, estimator=RandomForestClassifier(),\n",
       "             param_grid={'max_samples': [0.3, 0.6, 1.0],\n",
       "                         'min_samples_leaf': [15, 20, 25],\n",
       "                         'n_estimators': [10]},\n",
       "             verbose=3)"
      ]
     },
     "execution_count": 29,
     "metadata": {},
     "output_type": "execute_result"
    }
   ],
   "source": [
    "# Try grid search\n",
    "base_estimator = sklearn.ensemble.RandomForestClassifier()\n",
    "param_grid = {'n_estimators':[10],\n",
    "              'min_samples_leaf':[15, 20, 25],\n",
    "              'max_samples':[0.3, 0.6, 1.0]}\n",
    "clf_search = sklearn.model_selection.GridSearchCV(base_estimator,param_grid,verbose=3, cv = 3)\n",
    "clf_search.fit(X,y)"
   ]
  },
  {
   "cell_type": "markdown",
   "id": "1bd0fc70",
   "metadata": {},
   "source": [
    "Can see from these results that the score is relatively even, through all runs. We pick the lowest amount of both max_samples and min_samples_leaf, since it does not seem to have a big affect to increase their numbers. Note here, the score is consistently over 0.9, while earlier, when trying min_samples_leaf = [0.1 - 0.000001], the score was mostly below 0.9, but - the min_samples was kept at 0.2. Lets try to vary max_samples and min_samples_leaf = [0.1 - 0.000001]."
   ]
  },
  {
   "cell_type": "code",
   "execution_count": 30,
   "id": "1db29865",
   "metadata": {},
   "outputs": [
    {
     "name": "stdout",
     "output_type": "stream",
     "text": [
      "Fitting 3 folds for each of 12 candidates, totalling 36 fits\n",
      "[CV 1/3] END max_samples=0.3, min_samples_leaf=0.0001, n_estimators=10;, score=0.885 total time=  32.1s\n",
      "[CV 2/3] END max_samples=0.3, min_samples_leaf=0.0001, n_estimators=10;, score=0.888 total time=  30.7s\n",
      "[CV 3/3] END max_samples=0.3, min_samples_leaf=0.0001, n_estimators=10;, score=0.894 total time=  29.8s\n",
      "[CV 1/3] END max_samples=0.3, min_samples_leaf=1e-05, n_estimators=10;, score=0.903 total time=  35.5s\n",
      "[CV 2/3] END max_samples=0.3, min_samples_leaf=1e-05, n_estimators=10;, score=0.902 total time=  36.3s\n",
      "[CV 3/3] END max_samples=0.3, min_samples_leaf=1e-05, n_estimators=10;, score=0.910 total time=  34.8s\n",
      "[CV 1/3] END max_samples=0.3, min_samples_leaf=1e-06, n_estimators=10;, score=0.907 total time=  39.1s\n",
      "[CV 2/3] END max_samples=0.3, min_samples_leaf=1e-06, n_estimators=10;, score=0.905 total time=  37.8s\n",
      "[CV 3/3] END max_samples=0.3, min_samples_leaf=1e-06, n_estimators=10;, score=0.914 total time=  37.3s\n",
      "[CV 1/3] END max_samples=0.3, min_samples_leaf=1e-07, n_estimators=10;, score=0.906 total time=  39.5s\n",
      "[CV 2/3] END max_samples=0.3, min_samples_leaf=1e-07, n_estimators=10;, score=0.903 total time=  38.7s\n",
      "[CV 3/3] END max_samples=0.3, min_samples_leaf=1e-07, n_estimators=10;, score=0.912 total time=  38.6s\n",
      "[CV 1/3] END max_samples=0.6, min_samples_leaf=0.0001, n_estimators=10;, score=0.891 total time=  54.7s\n",
      "[CV 2/3] END max_samples=0.6, min_samples_leaf=0.0001, n_estimators=10;, score=0.891 total time=  55.6s\n",
      "[CV 3/3] END max_samples=0.6, min_samples_leaf=0.0001, n_estimators=10;, score=0.900 total time=  54.0s\n",
      "[CV 1/3] END max_samples=0.6, min_samples_leaf=1e-05, n_estimators=10;, score=0.907 total time= 1.1min\n",
      "[CV 2/3] END max_samples=0.6, min_samples_leaf=1e-05, n_estimators=10;, score=0.905 total time= 1.0min\n",
      "[CV 3/3] END max_samples=0.6, min_samples_leaf=1e-05, n_estimators=10;, score=0.913 total time= 1.1min\n",
      "[CV 1/3] END max_samples=0.6, min_samples_leaf=1e-06, n_estimators=10;, score=0.909 total time= 1.2min\n",
      "[CV 2/3] END max_samples=0.6, min_samples_leaf=1e-06, n_estimators=10;, score=0.906 total time= 1.2min\n",
      "[CV 3/3] END max_samples=0.6, min_samples_leaf=1e-06, n_estimators=10;, score=0.916 total time= 1.1min\n",
      "[CV 1/3] END max_samples=0.6, min_samples_leaf=1e-07, n_estimators=10;, score=0.908 total time= 1.2min\n",
      "[CV 2/3] END max_samples=0.6, min_samples_leaf=1e-07, n_estimators=10;, score=0.904 total time= 1.2min\n",
      "[CV 3/3] END max_samples=0.6, min_samples_leaf=1e-07, n_estimators=10;, score=0.913 total time= 1.2min\n",
      "[CV 1/3] END max_samples=1.0, min_samples_leaf=0.0001, n_estimators=10;, score=0.895 total time= 1.3min\n",
      "[CV 2/3] END max_samples=1.0, min_samples_leaf=0.0001, n_estimators=10;, score=0.895 total time= 1.3min\n",
      "[CV 3/3] END max_samples=1.0, min_samples_leaf=0.0001, n_estimators=10;, score=0.903 total time= 1.4min\n",
      "[CV 1/3] END max_samples=1.0, min_samples_leaf=1e-05, n_estimators=10;, score=0.908 total time= 1.5min\n",
      "[CV 2/3] END max_samples=1.0, min_samples_leaf=1e-05, n_estimators=10;, score=0.906 total time= 1.5min\n",
      "[CV 3/3] END max_samples=1.0, min_samples_leaf=1e-05, n_estimators=10;, score=0.915 total time= 1.5min\n",
      "[CV 1/3] END max_samples=1.0, min_samples_leaf=1e-06, n_estimators=10;, score=0.910 total time= 1.6min\n",
      "[CV 2/3] END max_samples=1.0, min_samples_leaf=1e-06, n_estimators=10;, score=0.907 total time= 1.7min\n",
      "[CV 3/3] END max_samples=1.0, min_samples_leaf=1e-06, n_estimators=10;, score=0.917 total time= 1.6min\n",
      "[CV 1/3] END max_samples=1.0, min_samples_leaf=1e-07, n_estimators=10;, score=0.908 total time= 1.7min\n",
      "[CV 2/3] END max_samples=1.0, min_samples_leaf=1e-07, n_estimators=10;, score=0.905 total time= 1.7min\n",
      "[CV 3/3] END max_samples=1.0, min_samples_leaf=1e-07, n_estimators=10;, score=0.914 total time= 1.7min\n"
     ]
    },
    {
     "data": {
      "text/plain": [
       "GridSearchCV(cv=3, estimator=RandomForestClassifier(),\n",
       "             param_grid={'max_samples': [0.3, 0.6, 1.0],\n",
       "                         'min_samples_leaf': [0.0001, 1e-05, 1e-06, 1e-07],\n",
       "                         'n_estimators': [10]},\n",
       "             verbose=3)"
      ]
     },
     "execution_count": 30,
     "metadata": {},
     "output_type": "execute_result"
    }
   ],
   "source": [
    "# Try grid search\n",
    "base_estimator = sklearn.ensemble.RandomForestClassifier()\n",
    "param_grid = {'n_estimators':[10],\n",
    "              'min_samples_leaf':[0.0001,0.00001,0.000001, 0.0000001],\n",
    "              'max_samples':[0.3, 0.6, 1.0]}\n",
    "clf_search = sklearn.model_selection.GridSearchCV(base_estimator,param_grid,verbose=3, cv = 3)\n",
    "clf_search.fit(X,y)"
   ]
  },
  {
   "cell_type": "markdown",
   "id": "5c3d3432",
   "metadata": {},
   "source": [
    "Increasing the max_samples above 0.3 seems to keep the score stable over 0.9, both, for all values of min_samples_leaf (both here with small values, and previous wiht big values, except for min_samples_leaf=0.0001). Based on these results, the score seems stable across min_samples_leaf =  [0.00001,0.000001, 0.0000001] while max_samples > 0.3, which is the same result as with min_samples_leaf':[15, 20, 25], but here also with min_samples = 0.3.\n",
    "\n",
    "It also, as previous, gives little indication that having a very small min_samples_leaf (or large; 25) increases the score. Based on that, we now pursue on with:\n",
    "min_samples_leaf = [0.0001, 15], \n",
    "max_samples = 0.6, \n",
    "and then try to vary the n_estimators again to evaluate the affect that might have on the results."
   ]
  },
  {
   "cell_type": "code",
   "execution_count": 31,
   "id": "f7a8d6a4",
   "metadata": {},
   "outputs": [
    {
     "name": "stdout",
     "output_type": "stream",
     "text": [
      "Fitting 3 folds for each of 14 candidates, totalling 42 fits\n",
      "[CV 1/3] END max_samples=0.6, min_samples_leaf=0.0001, n_estimators=1;, score=0.843 total time=   6.1s\n",
      "[CV 2/3] END max_samples=0.6, min_samples_leaf=0.0001, n_estimators=1;, score=0.853 total time=   6.4s\n",
      "[CV 3/3] END max_samples=0.6, min_samples_leaf=0.0001, n_estimators=1;, score=0.859 total time=   5.6s\n",
      "[CV 1/3] END max_samples=0.6, min_samples_leaf=0.0001, n_estimators=5;, score=0.886 total time=  25.9s\n",
      "[CV 2/3] END max_samples=0.6, min_samples_leaf=0.0001, n_estimators=5;, score=0.887 total time=  27.5s\n",
      "[CV 3/3] END max_samples=0.6, min_samples_leaf=0.0001, n_estimators=5;, score=0.895 total time=  28.1s\n",
      "[CV 1/3] END max_samples=0.6, min_samples_leaf=0.0001, n_estimators=10;, score=0.893 total time=  55.2s\n",
      "[CV 2/3] END max_samples=0.6, min_samples_leaf=0.0001, n_estimators=10;, score=0.892 total time=  55.1s\n",
      "[CV 3/3] END max_samples=0.6, min_samples_leaf=0.0001, n_estimators=10;, score=0.899 total time=  53.3s\n",
      "[CV 1/3] END max_samples=0.6, min_samples_leaf=0.0001, n_estimators=15;, score=0.894 total time= 1.3min\n",
      "[CV 2/3] END max_samples=0.6, min_samples_leaf=0.0001, n_estimators=15;, score=0.892 total time= 1.4min\n",
      "[CV 3/3] END max_samples=0.6, min_samples_leaf=0.0001, n_estimators=15;, score=0.901 total time= 1.4min\n",
      "[CV 1/3] END max_samples=0.6, min_samples_leaf=0.0001, n_estimators=20;, score=0.894 total time= 1.9min\n",
      "[CV 2/3] END max_samples=0.6, min_samples_leaf=0.0001, n_estimators=20;, score=0.893 total time= 3.1min\n",
      "[CV 3/3] END max_samples=0.6, min_samples_leaf=0.0001, n_estimators=20;, score=0.902 total time= 1.8min\n",
      "[CV 1/3] END max_samples=0.6, min_samples_leaf=0.0001, n_estimators=25;, score=0.895 total time= 2.3min\n",
      "[CV 2/3] END max_samples=0.6, min_samples_leaf=0.0001, n_estimators=25;, score=0.895 total time= 2.2min\n",
      "[CV 3/3] END max_samples=0.6, min_samples_leaf=0.0001, n_estimators=25;, score=0.903 total time= 2.3min\n",
      "[CV 1/3] END max_samples=0.6, min_samples_leaf=0.0001, n_estimators=30;, score=0.895 total time= 2.8min\n",
      "[CV 2/3] END max_samples=0.6, min_samples_leaf=0.0001, n_estimators=30;, score=0.895 total time= 2.7min\n",
      "[CV 3/3] END max_samples=0.6, min_samples_leaf=0.0001, n_estimators=30;, score=0.903 total time= 2.8min\n",
      "[CV 1/3] END max_samples=0.6, min_samples_leaf=15, n_estimators=1;, score=0.870 total time=   6.9s\n",
      "[CV 2/3] END max_samples=0.6, min_samples_leaf=15, n_estimators=1;, score=0.874 total time=   7.1s\n",
      "[CV 3/3] END max_samples=0.6, min_samples_leaf=15, n_estimators=1;, score=0.880 total time=   6.9s\n",
      "[CV 1/3] END max_samples=0.6, min_samples_leaf=15, n_estimators=5;, score=0.903 total time=  33.0s\n",
      "[CV 2/3] END max_samples=0.6, min_samples_leaf=15, n_estimators=5;, score=0.901 total time=  33.3s\n",
      "[CV 3/3] END max_samples=0.6, min_samples_leaf=15, n_estimators=5;, score=0.911 total time=  33.0s\n",
      "[CV 1/3] END max_samples=0.6, min_samples_leaf=15, n_estimators=10;, score=0.908 total time= 1.1min\n",
      "[CV 2/3] END max_samples=0.6, min_samples_leaf=15, n_estimators=10;, score=0.905 total time= 1.1min\n",
      "[CV 3/3] END max_samples=0.6, min_samples_leaf=15, n_estimators=10;, score=0.915 total time= 1.1min\n",
      "[CV 1/3] END max_samples=0.6, min_samples_leaf=15, n_estimators=15;, score=0.909 total time= 1.6min\n",
      "[CV 2/3] END max_samples=0.6, min_samples_leaf=15, n_estimators=15;, score=0.906 total time= 1.6min\n",
      "[CV 3/3] END max_samples=0.6, min_samples_leaf=15, n_estimators=15;, score=0.916 total time= 1.6min\n",
      "[CV 1/3] END max_samples=0.6, min_samples_leaf=15, n_estimators=20;, score=0.910 total time= 2.2min\n",
      "[CV 2/3] END max_samples=0.6, min_samples_leaf=15, n_estimators=20;, score=0.907 total time= 2.1min\n",
      "[CV 3/3] END max_samples=0.6, min_samples_leaf=15, n_estimators=20;, score=0.916 total time= 2.1min\n",
      "[CV 1/3] END max_samples=0.6, min_samples_leaf=15, n_estimators=25;, score=0.910 total time= 2.7min\n",
      "[CV 2/3] END max_samples=0.6, min_samples_leaf=15, n_estimators=25;, score=0.907 total time= 2.6min\n",
      "[CV 3/3] END max_samples=0.6, min_samples_leaf=15, n_estimators=25;, score=0.917 total time= 2.7min\n",
      "[CV 1/3] END max_samples=0.6, min_samples_leaf=15, n_estimators=30;, score=0.911 total time= 3.1min\n",
      "[CV 2/3] END max_samples=0.6, min_samples_leaf=15, n_estimators=30;, score=0.908 total time= 3.1min\n",
      "[CV 3/3] END max_samples=0.6, min_samples_leaf=15, n_estimators=30;, score=0.918 total time= 3.2min\n"
     ]
    },
    {
     "data": {
      "text/plain": [
       "GridSearchCV(cv=3, estimator=RandomForestClassifier(),\n",
       "             param_grid={'max_samples': [0.6], 'min_samples_leaf': [0.0001, 15],\n",
       "                         'n_estimators': [1, 5, 10, 15, 20, 25, 30]},\n",
       "             verbose=3)"
      ]
     },
     "execution_count": 31,
     "metadata": {},
     "output_type": "execute_result"
    }
   ],
   "source": [
    "# Try grid search\n",
    "base_estimator = sklearn.ensemble.RandomForestClassifier()\n",
    "param_grid = {'n_estimators':[1, 5, 10, 15, 20, 25, 30],\n",
    "              'min_samples_leaf':[0.0001,15],\n",
    "              'max_samples':[0.6]}\n",
    "clf_search = sklearn.model_selection.GridSearchCV(base_estimator,param_grid,verbose=3, cv = 3)\n",
    "clf_search.fit(X,y)"
   ]
  },
  {
   "cell_type": "markdown",
   "id": "50286d7d",
   "metadata": {},
   "source": [
    "The min_samples_leaf = 15 overall have higher score than min_samples_leaf = 0.0001. Also, the score is consistently higher when n_estimators > 10. No significant difference between 20, 25 and 30. Therefore choosing to go with \n",
    "max_samples=0.6, \n",
    "min_samples_leaf=15, \n",
    "n_estimators=20,\n",
    "\n",
    "training and testing the model and looking at the confusion matrix to see how the model performs on the prediction of the different classes:\n"
   ]
  },
  {
   "cell_type": "code",
   "execution_count": 35,
   "id": "e56d8da3",
   "metadata": {},
   "outputs": [],
   "source": [
    "# train and apply model with  max_samples=0.6, min_samples_leaf=15, n_estimators=20\n",
    "\n",
    "# Split into training and testing datasets\n",
    "X_train,X_val,y_train,y_val = sklearn.model_selection.train_test_split(X,y,train_size=0.7)\n",
    "rfc = sklearn.ensemble.RandomForestClassifier(n_estimators=20,max_samples=0.6, min_samples_leaf = 15)\n"
   ]
  },
  {
   "cell_type": "code",
   "execution_count": 37,
   "id": "ad6ad6fa",
   "metadata": {},
   "outputs": [],
   "source": [
    "# Train classifier and use it on validation data\n",
    "rfc.fit(X_train,y_train)\n",
    "y_val_pred = rfc.predict(X_val)"
   ]
  },
  {
   "cell_type": "code",
   "execution_count": 39,
   "id": "d5204d22",
   "metadata": {
    "scrolled": true
   },
   "outputs": [
    {
     "data": {
      "image/png": "[encoded data removed]",
      "text/plain": [
       "<Figure size 432x288 with 2 Axes>"
      ]
     },
     "metadata": {
      "needs_background": "light"
     },
     "output_type": "display_data"
    }
   ],
   "source": [
    "# Show confusion matrix\n",
    "display_labels = ['Sand', 'Seagrass', 'Seagrass w/turf','Rockweed','Other algae']\n",
    "confusion_matrix = sklearn.metrics.confusion_matrix(y_val,y_val_pred,normalize='true')\n",
    "disp = sklearn.metrics.ConfusionMatrixDisplay(confusion_matrix*100,display_labels=display_labels)\n",
    "disp.plot(xticks_rotation='vertical',cmap='gist_earth',values_format='.1f')\n",
    "plt.title('Confusion matrix (%)')\n",
    "plt.show()"
   ]
  },
  {
   "cell_type": "markdown",
   "id": "f5a774f3",
   "metadata": {},
   "source": [
    "The confusion matrix shows overall good performance. As expected, Sand is easy to recognise, while Seagrass w/turf is harder. \n",
    "\n",
    "We have now tried parameters:\n",
    "n_estimators = [1, 5, 10, 15, 20, 25, 30],\n",
    "max_samples = [0.02, 0.06, 0.1, 0.3, 0.6, 1.0],\n",
    "min_samples_leaf = [35, 30, 25, 20, 15, 10, 5, 1, 0.01,0.001,0.0001,0.00001,0.000001, 0.0000001]\n",
    "\n",
    "and found the best model with the parameters:\n",
    "\n",
    "n_estimators = 20,\n",
    "max_samples = 0.6\n",
    "min_samples_leaf = 15\n"
   ]
  }
 ],
 "metadata": {
  "kernelspec": {
   "display_name": "Python 3 (ipykernel)",
   "language": "python",
   "name": "python3"
  },
  "language_info": {
   "codemirror_mode": {
    "name": "ipython",
    "version": 3
   },
   "file_extension": ".py",
   "mimetype": "text/x-python",
   "name": "python",
   "nbconvert_exporter": "python",
   "pygments_lexer": "ipython3",
   "version": "3.9.7"
  }
 },
 "nbformat": 4,
 "nbformat_minor": 5
}
