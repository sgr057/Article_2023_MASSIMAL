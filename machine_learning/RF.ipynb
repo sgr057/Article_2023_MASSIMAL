{
 "cells": [
  {
   "cell_type": "code",
   "execution_count": 1,
   "id": "e4845058",
   "metadata": {},
   "outputs": [],
   "source": [
    "import numpy as np\n",
    "import matplotlib.pyplot as plt\n",
    "import skimage\n",
    "import sys\n",
    "sys.path.append('/Users/siljegrue/Library/CloudStorage/OneDrive-UiTOffice365/Desktop/uit/Article 2023/Code/Article_2023_MASSIMAL//')\n",
    "import batch_processes, annotation, hyspec_io\n",
    "import h5py"
   ]
  },
  {
   "cell_type": "code",
   "execution_count": 11,
   "id": "283034c1",
   "metadata": {},
   "outputs": [],
   "source": [
    "\"\"\" Define classes\"\"\"\n",
    "\n",
    "z_m =  ['Zostera marina - dominant']\n",
    "z_m_t = ['Zostera marina with turf algae']\n",
    "sand = ['Sand']\n",
    "kelp = ['Fucus serratus', 'Rockweed with turf algae']\n",
    "other = ['Aegagropila (algae ball)', 'Turf algae - dominant', 'Saccharina latissima']\n",
    "mixed = ['Mixed algae classes on soft substrate'] #(this class will not be part of the training/validation)\n"
   ]
  },
  {
   "cell_type": "code",
   "execution_count": null,
   "id": "6876504c",
   "metadata": {},
   "outputs": [],
   "source": []
  },
  {
   "cell_type": "markdown",
   "id": "65c97a1e",
   "metadata": {},
   "source": [
    "Random Forest"
   ]
  },
  {
   "cell_type": "code",
   "execution_count": 10,
   "id": "3a08ca4e",
   "metadata": {},
   "outputs": [],
   "source": [
    "# imports\n",
    "\n",
    "from sklearn.preprocessing import StandardScaler\n",
    "from sklearn.decomposition import PCA\n",
    "\n",
    "from sklearn.ensemble import RandomForestClassifier\n",
    "from sklearn.svm import SVC\n",
    "\n",
    "from sklearn.pipeline import make_pipeline\n",
    "from sklearn.metrics import accuracy_score\n",
    "\n",
    "from sklearn.metrics import multilabel_confusion_matrix  \n",
    "from sklearn.metrics import confusion_matrix\n",
    "from sklearn.utils.multiclass import unique_labels\n",
    "import pandas as pd"
   ]
  },
  {
   "cell_type": "code",
   "execution_count": null,
   "id": "b45f1f50",
   "metadata": {},
   "outputs": [],
   "source": []
  }
 ],
 "metadata": {
  "kernelspec": {
   "display_name": "Python 3 (ipykernel)",
   "language": "python",
   "name": "python3"
  },
  "language_info": {
   "codemirror_mode": {
    "name": "ipython",
    "version": 3
   },
   "file_extension": ".py",
   "mimetype": "text/x-python",
   "name": "python",
   "nbconvert_exporter": "python",
   "pygments_lexer": "ipython3",
   "version": "3.9.7"
  }
 },
 "nbformat": 4,
 "nbformat_minor": 5
}
