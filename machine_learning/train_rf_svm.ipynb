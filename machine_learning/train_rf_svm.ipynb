{
 "cells": [
  {
   "cell_type": "markdown",
   "id": "3a590e35",
   "metadata": {},
   "source": [
    "Code written in colabboration with Martin Hansen Skjelvareid."
   ]
  },
  {
   "cell_type": "code",
   "execution_count": 2,
   "id": "4d9fa40d",
   "metadata": {},
   "outputs": [],
   "source": [
    "import numpy as np\n",
    "import matplotlib.pyplot as plt\n",
    "import sklearn.ensemble\n",
    "import sklearn.svm\n",
    "import pathlib\n",
    "import pickle\n",
    "import imblearn\n",
    "import time"
   ]
  },
  {
   "cell_type": "code",
   "execution_count": 6,
   "id": "da78b15a",
   "metadata": {},
   "outputs": [],
   "source": [
    "# Paths \n",
    "base_dir = pathlib.Path('/Users/siljegrue/Downloads')\n",
    "train_spectra_path = base_dir / '20210825_OlbergAreaS_Spectra-2.npz'\n",
    "val_spectra_path = base_dir / '20210825_OlbergAreaS_Spectra.npz'\n",
    "#random_forest_save_path = base_dir / 'X_SavedModels_RF_SVM/20210825_OlbergAreaS_RandomForest_InpaintedDataset.pkl'\n",
    "#svm_save_path = base_dir / 'X_SavedModels_RF_SVM/20210825_OlbergAreaS_SVM_InpaintedDataset.pkl'"
   ]
  },
  {
   "cell_type": "code",
   "execution_count": 7,
   "id": "7e55f3b2",
   "metadata": {},
   "outputs": [
    {
     "name": "stdout",
     "output_type": "stream",
     "text": [
      "(689903, 8)\n",
      "(689903,)\n"
     ]
    }
   ],
   "source": [
    "# Load training dataset\n",
    "with np.load(train_spectra_path) as npz_files:\n",
    "    X_train = npz_files['X']\n",
    "    y_train = npz_files['y']\n",
    "print(f'{X_train.shape}')\n",
    "print(f'{y_train.shape}')"
   ]
  },
  {
   "cell_type": "code",
   "execution_count": 8,
   "id": "6708181c",
   "metadata": {},
   "outputs": [
    {
     "name": "stdout",
     "output_type": "stream",
     "text": [
      "(3270821, 8)\n",
      "(3270821,)\n"
     ]
    }
   ],
   "source": [
    "# Load validation dataset\n",
    "with np.load(val_spectra_path) as npz_files:\n",
    "    X_val = npz_files['X']\n",
    "    y_val = npz_files['y']\n",
    "print(f'{X_val.shape}')\n",
    "print(f'{y_val.shape}')"
   ]
  },
  {
   "cell_type": "code",
   "execution_count": 9,
   "id": "43b9af4b",
   "metadata": {},
   "outputs": [],
   "source": [
    "# Create a random forest model\n",
    "rfc = sklearn.ensemble.RandomForestClassifier(\n",
    "    n_estimators=20,            # Ensemble of 30 decision trees\n",
    "    min_samples_leaf=15,        # Stop splitting data when number of samples < 15 (faster)\n",
    "    max_samples=0.6)            # Use only 60% of data for each estimator (faster)\n"
   ]
  },
  {
   "cell_type": "code",
   "execution_count": 11,
   "id": "1abee3d6",
   "metadata": {},
   "outputs": [
    {
     "name": "stdout",
     "output_type": "stream",
     "text": [
      "It took 4.412376014391581 minutes to train the model\n"
     ]
    }
   ],
   "source": [
    "# Train classifier \n",
    "s_rf = time.time()\n",
    "rfc.fit(X_train,y_train)\n",
    "e_rf = time.time()\n",
    "print(\"It took\" ,(e_rf-s_rf)/60, \"minutes to train the model\")"
   ]
  },
  {
   "cell_type": "code",
   "execution_count": 12,
   "id": "6ff23fa1",
   "metadata": {},
   "outputs": [],
   "source": [
    "# save the model to file\n",
    "filename_rf = 'RF_model.sav'\n",
    "pickle.dump(rfc, open(filename_rf, 'wb'))"
   ]
  },
  {
   "cell_type": "code",
   "execution_count": 13,
   "id": "4656f01d",
   "metadata": {},
   "outputs": [
    {
     "name": "stdout",
     "output_type": "stream",
     "text": [
      "It took 0.1823144833246867 minutes to train the model\n"
     ]
    }
   ],
   "source": [
    "# Use classifier to make predictions on validation data\n",
    "s_rf_pred = time.time()\n",
    "y_pred_rf = rfc.predict(X_val)\n",
    "e_rf_pred = time.time()\n",
    "print(\"It took\" ,(e_rf_pred-s_rf_pred)/60, \"minutes to train the model\")"
   ]
  },
  {
   "cell_type": "code",
   "execution_count": 14,
   "id": "ed587935",
   "metadata": {},
   "outputs": [
    {
     "data": {
      "image/png": "[encoded data removed]",
      "text/plain": [
       "<Figure size 432x288 with 2 Axes>"
      ]
     },
     "metadata": {
      "needs_background": "light"
     },
     "output_type": "display_data"
    }
   ],
   "source": [
    "# Show confusion matrix\n",
    "display_labels = ['Sand', 'Seagrass', 'Seagrass w/turf','Rockweed','Other algae']\n",
    "confusion_matrix = sklearn.metrics.confusion_matrix(y_val,y_pred_rf,normalize='true')\n",
    "disp = sklearn.metrics.ConfusionMatrixDisplay(confusion_matrix*100,display_labels=display_labels)\n",
    "disp.plot(xticks_rotation='vertical',cmap='gist_earth',values_format='.1f')\n",
    "plt.title('Confusion matrix (%)')\n",
    "plt.show()"
   ]
  },
  {
   "cell_type": "markdown",
   "id": "ae9464d8",
   "metadata": {},
   "source": [
    "Then train SVM model"
   ]
  },
  {
   "cell_type": "code",
   "execution_count": 8,
   "id": "0d116460",
   "metadata": {},
   "outputs": [],
   "source": [
    "# Create SVM model\n",
    "svm = sklearn.svm.SVC(C=0.5,kernel='rbf',gamma='scale')"
   ]
  },
  {
   "cell_type": "code",
   "execution_count": 9,
   "id": "f05f814e",
   "metadata": {},
   "outputs": [
    {
     "name": "stdout",
     "output_type": "stream",
     "text": [
      "It took 1139.0349627017974 minutes to train the model\n"
     ]
    }
   ],
   "source": [
    "# Train SVM model\n",
    "s_svm = time.time()\n",
    "svm.fit(X_train,y_train)\n",
    "e_svm = time.time()\n",
    "print(\"It took\" ,(e_svm-s_svm)/60, \"minutes to train the model\")"
   ]
  },
  {
   "cell_type": "code",
   "execution_count": 10,
   "id": "e2215871",
   "metadata": {},
   "outputs": [],
   "source": [
    "# save the model to file\n",
    "import pickle\n",
    "filename_svm = 'SVM_model.sav'\n",
    "pickle.dump(svm, open(filename_svm, 'wb'))"
   ]
  },
  {
   "cell_type": "code",
   "execution_count": 20,
   "id": "fe9d977c",
   "metadata": {},
   "outputs": [
    {
     "name": "stdout",
     "output_type": "stream",
     "text": [
      "It took 3092.1138870636623 minutes to train the model\n"
     ]
    }
   ],
   "source": [
    "# Use classifier to make predictions on validation data\n",
    "y_pred_svm = svm.predict(X_val)\n",
    "\n",
    "# Use classifier to make predictions on validation data\n",
    "s_rf_pred = time.time()\n",
    "y_pred_svm = svm.predict(X_val)\n",
    "e_rf_pred = time.time()\n",
    "print(\"It took\" ,(e_rf_pred-s_rf_pred)/60, \"minutes to train the model\")"
   ]
  },
  {
   "cell_type": "code",
   "execution_count": 21,
   "id": "9ada7e0b",
   "metadata": {},
   "outputs": [
    {
     "data": {
      "image/png": "[encoded data removed]",
      "text/plain": [
       "<Figure size 432x288 with 2 Axes>"
      ]
     },
     "metadata": {
      "needs_background": "light"
     },
     "output_type": "display_data"
    }
   ],
   "source": [
    "# Show confusion matrix\n",
    "display_labels = ['Sand', 'Seagrass', 'Seagrass w/turf','Rockweed','Other algae']\n",
    "confusion_matrix = sklearn.metrics.confusion_matrix(y_val,y_pred_svm,normalize='true')\n",
    "disp = sklearn.metrics.ConfusionMatrixDisplay(confusion_matrix*100,display_labels=display_labels)\n",
    "disp.plot(xticks_rotation='vertical',cmap='gist_earth',values_format='.1f')\n",
    "plt.title('Confusion matrix (%)')\n",
    "plt.show()"
   ]
  },
  {
   "cell_type": "code",
   "execution_count": null,
   "id": "725d180d",
   "metadata": {},
   "outputs": [],
   "source": []
  }
 ],
 "metadata": {
  "kernelspec": {
   "display_name": "Python 3 (ipykernel)",
   "language": "python",
   "name": "python3"
  },
  "language_info": {
   "codemirror_mode": {
    "name": "ipython",
    "version": 3
   },
   "file_extension": ".py",
   "mimetype": "text/x-python",
   "name": "python",
   "nbconvert_exporter": "python",
   "pygments_lexer": "ipython3",
   "version": "3.9.7"
  }
 },
 "nbformat": 4,
 "nbformat_minor": 5
}
